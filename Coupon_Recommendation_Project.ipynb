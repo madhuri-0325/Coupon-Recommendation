{
 "cells": [
  {
   "cell_type": "code",
   "execution_count": 82,
   "id": "a01e25c7",
   "metadata": {},
   "outputs": [],
   "source": [
    "import pandas as pd\n",
    "import matplotlib.pyplot as plt\n",
    "import seaborn as sns\n",
    "import numpy as np"
   ]
  },
  {
   "cell_type": "code",
   "execution_count": 83,
   "id": "15045ade",
   "metadata": {},
   "outputs": [],
   "source": [
    "pd.set_option('display.max_columns',80)"
   ]
  },
  {
   "cell_type": "code",
   "execution_count": 84,
   "id": "38e21dd8",
   "metadata": {},
   "outputs": [],
   "source": [
    "df=pd.read_csv(\"Data.csv\")"
   ]
  },
  {
   "cell_type": "code",
   "execution_count": 85,
   "id": "4c2e52b3",
   "metadata": {},
   "outputs": [
    {
     "data": {
      "text/html": [
       "<div>\n",
       "<style scoped>\n",
       "    .dataframe tbody tr th:only-of-type {\n",
       "        vertical-align: middle;\n",
       "    }\n",
       "\n",
       "    .dataframe tbody tr th {\n",
       "        vertical-align: top;\n",
       "    }\n",
       "\n",
       "    .dataframe thead th {\n",
       "        text-align: right;\n",
       "    }\n",
       "</style>\n",
       "<table border=\"1\" class=\"dataframe\">\n",
       "  <thead>\n",
       "    <tr style=\"text-align: right;\">\n",
       "      <th></th>\n",
       "      <th>destination</th>\n",
       "      <th>passanger</th>\n",
       "      <th>weather</th>\n",
       "      <th>temperature</th>\n",
       "      <th>coupon</th>\n",
       "      <th>expiration</th>\n",
       "      <th>gender</th>\n",
       "      <th>age</th>\n",
       "      <th>maritalStatus</th>\n",
       "      <th>has_children</th>\n",
       "      <th>education</th>\n",
       "      <th>occupation</th>\n",
       "      <th>income</th>\n",
       "      <th>car</th>\n",
       "      <th>Bar</th>\n",
       "      <th>CoffeeHouse</th>\n",
       "      <th>CarryAway</th>\n",
       "      <th>RestaurantLessThan20</th>\n",
       "      <th>Restaurant20To50</th>\n",
       "      <th>toCoupon_GEQ5min</th>\n",
       "      <th>toCoupon_GEQ15min</th>\n",
       "      <th>toCoupon_GEQ25min</th>\n",
       "      <th>direction_same</th>\n",
       "      <th>direction_opp</th>\n",
       "      <th>Accept(Y/N?)</th>\n",
       "    </tr>\n",
       "  </thead>\n",
       "  <tbody>\n",
       "    <tr>\n",
       "      <th>0</th>\n",
       "      <td>No Urgent Place</td>\n",
       "      <td>Alone</td>\n",
       "      <td>Sunny</td>\n",
       "      <td>55</td>\n",
       "      <td>Restaurant(&lt;20)</td>\n",
       "      <td>1d</td>\n",
       "      <td>Female</td>\n",
       "      <td>21</td>\n",
       "      <td>Unmarried partner</td>\n",
       "      <td>1</td>\n",
       "      <td>Some college - no degree</td>\n",
       "      <td>Unemployed</td>\n",
       "      <td>$37500 - $49999</td>\n",
       "      <td>NaN</td>\n",
       "      <td>never</td>\n",
       "      <td>never</td>\n",
       "      <td>NaN</td>\n",
       "      <td>4~8</td>\n",
       "      <td>1~3</td>\n",
       "      <td>1</td>\n",
       "      <td>0</td>\n",
       "      <td>0</td>\n",
       "      <td>0</td>\n",
       "      <td>1</td>\n",
       "      <td>1</td>\n",
       "    </tr>\n",
       "    <tr>\n",
       "      <th>1</th>\n",
       "      <td>No Urgent Place</td>\n",
       "      <td>Friend(s)</td>\n",
       "      <td>Sunny</td>\n",
       "      <td>80</td>\n",
       "      <td>Coffee House</td>\n",
       "      <td>2h</td>\n",
       "      <td>Female</td>\n",
       "      <td>21</td>\n",
       "      <td>Unmarried partner</td>\n",
       "      <td>1</td>\n",
       "      <td>Some college - no degree</td>\n",
       "      <td>Unemployed</td>\n",
       "      <td>$37500 - $49999</td>\n",
       "      <td>NaN</td>\n",
       "      <td>never</td>\n",
       "      <td>never</td>\n",
       "      <td>NaN</td>\n",
       "      <td>4~8</td>\n",
       "      <td>1~3</td>\n",
       "      <td>1</td>\n",
       "      <td>0</td>\n",
       "      <td>0</td>\n",
       "      <td>0</td>\n",
       "      <td>1</td>\n",
       "      <td>0</td>\n",
       "    </tr>\n",
       "    <tr>\n",
       "      <th>2</th>\n",
       "      <td>No Urgent Place</td>\n",
       "      <td>Friend(s)</td>\n",
       "      <td>Sunny</td>\n",
       "      <td>80</td>\n",
       "      <td>Carry out &amp; Take away</td>\n",
       "      <td>2h</td>\n",
       "      <td>Female</td>\n",
       "      <td>21</td>\n",
       "      <td>Unmarried partner</td>\n",
       "      <td>1</td>\n",
       "      <td>Some college - no degree</td>\n",
       "      <td>Unemployed</td>\n",
       "      <td>$37500 - $49999</td>\n",
       "      <td>NaN</td>\n",
       "      <td>never</td>\n",
       "      <td>never</td>\n",
       "      <td>NaN</td>\n",
       "      <td>4~8</td>\n",
       "      <td>1~3</td>\n",
       "      <td>1</td>\n",
       "      <td>1</td>\n",
       "      <td>0</td>\n",
       "      <td>0</td>\n",
       "      <td>1</td>\n",
       "      <td>1</td>\n",
       "    </tr>\n",
       "    <tr>\n",
       "      <th>3</th>\n",
       "      <td>No Urgent Place</td>\n",
       "      <td>Friend(s)</td>\n",
       "      <td>Sunny</td>\n",
       "      <td>80</td>\n",
       "      <td>Coffee House</td>\n",
       "      <td>2h</td>\n",
       "      <td>Female</td>\n",
       "      <td>21</td>\n",
       "      <td>Unmarried partner</td>\n",
       "      <td>1</td>\n",
       "      <td>Some college - no degree</td>\n",
       "      <td>Unemployed</td>\n",
       "      <td>$37500 - $49999</td>\n",
       "      <td>NaN</td>\n",
       "      <td>never</td>\n",
       "      <td>never</td>\n",
       "      <td>NaN</td>\n",
       "      <td>4~8</td>\n",
       "      <td>1~3</td>\n",
       "      <td>1</td>\n",
       "      <td>1</td>\n",
       "      <td>0</td>\n",
       "      <td>0</td>\n",
       "      <td>1</td>\n",
       "      <td>0</td>\n",
       "    </tr>\n",
       "    <tr>\n",
       "      <th>4</th>\n",
       "      <td>No Urgent Place</td>\n",
       "      <td>Friend(s)</td>\n",
       "      <td>Sunny</td>\n",
       "      <td>80</td>\n",
       "      <td>Coffee House</td>\n",
       "      <td>1d</td>\n",
       "      <td>Female</td>\n",
       "      <td>21</td>\n",
       "      <td>Unmarried partner</td>\n",
       "      <td>1</td>\n",
       "      <td>Some college - no degree</td>\n",
       "      <td>Unemployed</td>\n",
       "      <td>$37500 - $49999</td>\n",
       "      <td>NaN</td>\n",
       "      <td>never</td>\n",
       "      <td>never</td>\n",
       "      <td>NaN</td>\n",
       "      <td>4~8</td>\n",
       "      <td>1~3</td>\n",
       "      <td>1</td>\n",
       "      <td>1</td>\n",
       "      <td>0</td>\n",
       "      <td>0</td>\n",
       "      <td>1</td>\n",
       "      <td>0</td>\n",
       "    </tr>\n",
       "    <tr>\n",
       "      <th>...</th>\n",
       "      <td>...</td>\n",
       "      <td>...</td>\n",
       "      <td>...</td>\n",
       "      <td>...</td>\n",
       "      <td>...</td>\n",
       "      <td>...</td>\n",
       "      <td>...</td>\n",
       "      <td>...</td>\n",
       "      <td>...</td>\n",
       "      <td>...</td>\n",
       "      <td>...</td>\n",
       "      <td>...</td>\n",
       "      <td>...</td>\n",
       "      <td>...</td>\n",
       "      <td>...</td>\n",
       "      <td>...</td>\n",
       "      <td>...</td>\n",
       "      <td>...</td>\n",
       "      <td>...</td>\n",
       "      <td>...</td>\n",
       "      <td>...</td>\n",
       "      <td>...</td>\n",
       "      <td>...</td>\n",
       "      <td>...</td>\n",
       "      <td>...</td>\n",
       "    </tr>\n",
       "    <tr>\n",
       "      <th>12679</th>\n",
       "      <td>Home</td>\n",
       "      <td>Partner</td>\n",
       "      <td>Rainy</td>\n",
       "      <td>55</td>\n",
       "      <td>Carry out &amp; Take away</td>\n",
       "      <td>1d</td>\n",
       "      <td>Male</td>\n",
       "      <td>26</td>\n",
       "      <td>Single</td>\n",
       "      <td>0</td>\n",
       "      <td>Bachelors degree</td>\n",
       "      <td>Sales &amp; Related</td>\n",
       "      <td>$75000 - $87499</td>\n",
       "      <td>NaN</td>\n",
       "      <td>never</td>\n",
       "      <td>never</td>\n",
       "      <td>1~3</td>\n",
       "      <td>4~8</td>\n",
       "      <td>1~3</td>\n",
       "      <td>1</td>\n",
       "      <td>0</td>\n",
       "      <td>0</td>\n",
       "      <td>1</td>\n",
       "      <td>0</td>\n",
       "      <td>1</td>\n",
       "    </tr>\n",
       "    <tr>\n",
       "      <th>12680</th>\n",
       "      <td>Work</td>\n",
       "      <td>Alone</td>\n",
       "      <td>Rainy</td>\n",
       "      <td>55</td>\n",
       "      <td>Carry out &amp; Take away</td>\n",
       "      <td>1d</td>\n",
       "      <td>Male</td>\n",
       "      <td>26</td>\n",
       "      <td>Single</td>\n",
       "      <td>0</td>\n",
       "      <td>Bachelors degree</td>\n",
       "      <td>Sales &amp; Related</td>\n",
       "      <td>$75000 - $87499</td>\n",
       "      <td>NaN</td>\n",
       "      <td>never</td>\n",
       "      <td>never</td>\n",
       "      <td>1~3</td>\n",
       "      <td>4~8</td>\n",
       "      <td>1~3</td>\n",
       "      <td>1</td>\n",
       "      <td>0</td>\n",
       "      <td>0</td>\n",
       "      <td>0</td>\n",
       "      <td>1</td>\n",
       "      <td>1</td>\n",
       "    </tr>\n",
       "    <tr>\n",
       "      <th>12681</th>\n",
       "      <td>Work</td>\n",
       "      <td>Alone</td>\n",
       "      <td>Snowy</td>\n",
       "      <td>30</td>\n",
       "      <td>Coffee House</td>\n",
       "      <td>1d</td>\n",
       "      <td>Male</td>\n",
       "      <td>26</td>\n",
       "      <td>Single</td>\n",
       "      <td>0</td>\n",
       "      <td>Bachelors degree</td>\n",
       "      <td>Sales &amp; Related</td>\n",
       "      <td>$75000 - $87499</td>\n",
       "      <td>NaN</td>\n",
       "      <td>never</td>\n",
       "      <td>never</td>\n",
       "      <td>1~3</td>\n",
       "      <td>4~8</td>\n",
       "      <td>1~3</td>\n",
       "      <td>1</td>\n",
       "      <td>0</td>\n",
       "      <td>0</td>\n",
       "      <td>1</td>\n",
       "      <td>0</td>\n",
       "      <td>0</td>\n",
       "    </tr>\n",
       "    <tr>\n",
       "      <th>12682</th>\n",
       "      <td>Work</td>\n",
       "      <td>Alone</td>\n",
       "      <td>Snowy</td>\n",
       "      <td>30</td>\n",
       "      <td>Bar</td>\n",
       "      <td>1d</td>\n",
       "      <td>Male</td>\n",
       "      <td>26</td>\n",
       "      <td>Single</td>\n",
       "      <td>0</td>\n",
       "      <td>Bachelors degree</td>\n",
       "      <td>Sales &amp; Related</td>\n",
       "      <td>$75000 - $87499</td>\n",
       "      <td>NaN</td>\n",
       "      <td>never</td>\n",
       "      <td>never</td>\n",
       "      <td>1~3</td>\n",
       "      <td>4~8</td>\n",
       "      <td>1~3</td>\n",
       "      <td>1</td>\n",
       "      <td>1</td>\n",
       "      <td>1</td>\n",
       "      <td>0</td>\n",
       "      <td>1</td>\n",
       "      <td>0</td>\n",
       "    </tr>\n",
       "    <tr>\n",
       "      <th>12683</th>\n",
       "      <td>Work</td>\n",
       "      <td>Alone</td>\n",
       "      <td>Sunny</td>\n",
       "      <td>80</td>\n",
       "      <td>Restaurant(20-50)</td>\n",
       "      <td>2h</td>\n",
       "      <td>Male</td>\n",
       "      <td>26</td>\n",
       "      <td>Single</td>\n",
       "      <td>0</td>\n",
       "      <td>Bachelors degree</td>\n",
       "      <td>Sales &amp; Related</td>\n",
       "      <td>$75000 - $87499</td>\n",
       "      <td>NaN</td>\n",
       "      <td>never</td>\n",
       "      <td>never</td>\n",
       "      <td>1~3</td>\n",
       "      <td>4~8</td>\n",
       "      <td>1~3</td>\n",
       "      <td>1</td>\n",
       "      <td>0</td>\n",
       "      <td>0</td>\n",
       "      <td>1</td>\n",
       "      <td>0</td>\n",
       "      <td>0</td>\n",
       "    </tr>\n",
       "  </tbody>\n",
       "</table>\n",
       "<p>12684 rows × 25 columns</p>\n",
       "</div>"
      ],
      "text/plain": [
       "           destination  passanger weather  temperature                 coupon  \\\n",
       "0      No Urgent Place      Alone   Sunny           55        Restaurant(<20)   \n",
       "1      No Urgent Place  Friend(s)   Sunny           80           Coffee House   \n",
       "2      No Urgent Place  Friend(s)   Sunny           80  Carry out & Take away   \n",
       "3      No Urgent Place  Friend(s)   Sunny           80           Coffee House   \n",
       "4      No Urgent Place  Friend(s)   Sunny           80           Coffee House   \n",
       "...                ...        ...     ...          ...                    ...   \n",
       "12679             Home    Partner   Rainy           55  Carry out & Take away   \n",
       "12680             Work      Alone   Rainy           55  Carry out & Take away   \n",
       "12681             Work      Alone   Snowy           30           Coffee House   \n",
       "12682             Work      Alone   Snowy           30                    Bar   \n",
       "12683             Work      Alone   Sunny           80      Restaurant(20-50)   \n",
       "\n",
       "      expiration  gender age      maritalStatus  has_children  \\\n",
       "0             1d  Female  21  Unmarried partner             1   \n",
       "1             2h  Female  21  Unmarried partner             1   \n",
       "2             2h  Female  21  Unmarried partner             1   \n",
       "3             2h  Female  21  Unmarried partner             1   \n",
       "4             1d  Female  21  Unmarried partner             1   \n",
       "...          ...     ...  ..                ...           ...   \n",
       "12679         1d    Male  26             Single             0   \n",
       "12680         1d    Male  26             Single             0   \n",
       "12681         1d    Male  26             Single             0   \n",
       "12682         1d    Male  26             Single             0   \n",
       "12683         2h    Male  26             Single             0   \n",
       "\n",
       "                      education       occupation           income  car    Bar  \\\n",
       "0      Some college - no degree       Unemployed  $37500 - $49999  NaN  never   \n",
       "1      Some college - no degree       Unemployed  $37500 - $49999  NaN  never   \n",
       "2      Some college - no degree       Unemployed  $37500 - $49999  NaN  never   \n",
       "3      Some college - no degree       Unemployed  $37500 - $49999  NaN  never   \n",
       "4      Some college - no degree       Unemployed  $37500 - $49999  NaN  never   \n",
       "...                         ...              ...              ...  ...    ...   \n",
       "12679          Bachelors degree  Sales & Related  $75000 - $87499  NaN  never   \n",
       "12680          Bachelors degree  Sales & Related  $75000 - $87499  NaN  never   \n",
       "12681          Bachelors degree  Sales & Related  $75000 - $87499  NaN  never   \n",
       "12682          Bachelors degree  Sales & Related  $75000 - $87499  NaN  never   \n",
       "12683          Bachelors degree  Sales & Related  $75000 - $87499  NaN  never   \n",
       "\n",
       "      CoffeeHouse CarryAway RestaurantLessThan20 Restaurant20To50  \\\n",
       "0           never       NaN                  4~8              1~3   \n",
       "1           never       NaN                  4~8              1~3   \n",
       "2           never       NaN                  4~8              1~3   \n",
       "3           never       NaN                  4~8              1~3   \n",
       "4           never       NaN                  4~8              1~3   \n",
       "...           ...       ...                  ...              ...   \n",
       "12679       never       1~3                  4~8              1~3   \n",
       "12680       never       1~3                  4~8              1~3   \n",
       "12681       never       1~3                  4~8              1~3   \n",
       "12682       never       1~3                  4~8              1~3   \n",
       "12683       never       1~3                  4~8              1~3   \n",
       "\n",
       "       toCoupon_GEQ5min  toCoupon_GEQ15min  toCoupon_GEQ25min  direction_same  \\\n",
       "0                     1                  0                  0               0   \n",
       "1                     1                  0                  0               0   \n",
       "2                     1                  1                  0               0   \n",
       "3                     1                  1                  0               0   \n",
       "4                     1                  1                  0               0   \n",
       "...                 ...                ...                ...             ...   \n",
       "12679                 1                  0                  0               1   \n",
       "12680                 1                  0                  0               0   \n",
       "12681                 1                  0                  0               1   \n",
       "12682                 1                  1                  1               0   \n",
       "12683                 1                  0                  0               1   \n",
       "\n",
       "       direction_opp  Accept(Y/N?)  \n",
       "0                  1             1  \n",
       "1                  1             0  \n",
       "2                  1             1  \n",
       "3                  1             0  \n",
       "4                  1             0  \n",
       "...              ...           ...  \n",
       "12679              0             1  \n",
       "12680              1             1  \n",
       "12681              0             0  \n",
       "12682              1             0  \n",
       "12683              0             0  \n",
       "\n",
       "[12684 rows x 25 columns]"
      ]
     },
     "execution_count": 85,
     "metadata": {},
     "output_type": "execute_result"
    }
   ],
   "source": [
    "df"
   ]
  },
  {
   "cell_type": "markdown",
   "id": "36664a22",
   "metadata": {},
   "source": [
    "# Data cleaning"
   ]
  },
  {
   "cell_type": "markdown",
   "id": "1e7078a6",
   "metadata": {},
   "source": [
    "#### changing all the columns to lower case"
   ]
  },
  {
   "cell_type": "code",
   "execution_count": 86,
   "id": "70d5bfc5",
   "metadata": {},
   "outputs": [],
   "source": [
    "df1=df.copy()"
   ]
  },
  {
   "cell_type": "code",
   "execution_count": 87,
   "id": "3775b216",
   "metadata": {},
   "outputs": [
    {
     "data": {
      "text/html": [
       "<div>\n",
       "<style scoped>\n",
       "    .dataframe tbody tr th:only-of-type {\n",
       "        vertical-align: middle;\n",
       "    }\n",
       "\n",
       "    .dataframe tbody tr th {\n",
       "        vertical-align: top;\n",
       "    }\n",
       "\n",
       "    .dataframe thead th {\n",
       "        text-align: right;\n",
       "    }\n",
       "</style>\n",
       "<table border=\"1\" class=\"dataframe\">\n",
       "  <thead>\n",
       "    <tr style=\"text-align: right;\">\n",
       "      <th></th>\n",
       "      <th>destination</th>\n",
       "      <th>passanger</th>\n",
       "      <th>weather</th>\n",
       "      <th>temperature</th>\n",
       "      <th>coupon</th>\n",
       "      <th>expiration</th>\n",
       "      <th>gender</th>\n",
       "      <th>age</th>\n",
       "      <th>maritalstatus</th>\n",
       "      <th>has_children</th>\n",
       "      <th>education</th>\n",
       "      <th>occupation</th>\n",
       "      <th>income</th>\n",
       "      <th>car</th>\n",
       "      <th>bar</th>\n",
       "      <th>coffeehouse</th>\n",
       "      <th>carryaway</th>\n",
       "      <th>restaurantlessthan20</th>\n",
       "      <th>restaurant20to50</th>\n",
       "      <th>tocoupon_geq5min</th>\n",
       "      <th>tocoupon_geq15min</th>\n",
       "      <th>tocoupon_geq25min</th>\n",
       "      <th>direction_same</th>\n",
       "      <th>direction_opp</th>\n",
       "      <th>accept(y/n?)</th>\n",
       "    </tr>\n",
       "  </thead>\n",
       "  <tbody>\n",
       "    <tr>\n",
       "      <th>0</th>\n",
       "      <td>No Urgent Place</td>\n",
       "      <td>Alone</td>\n",
       "      <td>Sunny</td>\n",
       "      <td>55</td>\n",
       "      <td>Restaurant(&lt;20)</td>\n",
       "      <td>1d</td>\n",
       "      <td>Female</td>\n",
       "      <td>21</td>\n",
       "      <td>Unmarried partner</td>\n",
       "      <td>1</td>\n",
       "      <td>Some college - no degree</td>\n",
       "      <td>Unemployed</td>\n",
       "      <td>$37500 - $49999</td>\n",
       "      <td>NaN</td>\n",
       "      <td>never</td>\n",
       "      <td>never</td>\n",
       "      <td>NaN</td>\n",
       "      <td>4~8</td>\n",
       "      <td>1~3</td>\n",
       "      <td>1</td>\n",
       "      <td>0</td>\n",
       "      <td>0</td>\n",
       "      <td>0</td>\n",
       "      <td>1</td>\n",
       "      <td>1</td>\n",
       "    </tr>\n",
       "    <tr>\n",
       "      <th>1</th>\n",
       "      <td>No Urgent Place</td>\n",
       "      <td>Friend(s)</td>\n",
       "      <td>Sunny</td>\n",
       "      <td>80</td>\n",
       "      <td>Coffee House</td>\n",
       "      <td>2h</td>\n",
       "      <td>Female</td>\n",
       "      <td>21</td>\n",
       "      <td>Unmarried partner</td>\n",
       "      <td>1</td>\n",
       "      <td>Some college - no degree</td>\n",
       "      <td>Unemployed</td>\n",
       "      <td>$37500 - $49999</td>\n",
       "      <td>NaN</td>\n",
       "      <td>never</td>\n",
       "      <td>never</td>\n",
       "      <td>NaN</td>\n",
       "      <td>4~8</td>\n",
       "      <td>1~3</td>\n",
       "      <td>1</td>\n",
       "      <td>0</td>\n",
       "      <td>0</td>\n",
       "      <td>0</td>\n",
       "      <td>1</td>\n",
       "      <td>0</td>\n",
       "    </tr>\n",
       "  </tbody>\n",
       "</table>\n",
       "</div>"
      ],
      "text/plain": [
       "       destination  passanger weather  temperature           coupon  \\\n",
       "0  No Urgent Place      Alone   Sunny           55  Restaurant(<20)   \n",
       "1  No Urgent Place  Friend(s)   Sunny           80     Coffee House   \n",
       "\n",
       "  expiration  gender age      maritalstatus  has_children  \\\n",
       "0         1d  Female  21  Unmarried partner             1   \n",
       "1         2h  Female  21  Unmarried partner             1   \n",
       "\n",
       "                  education  occupation           income  car    bar  \\\n",
       "0  Some college - no degree  Unemployed  $37500 - $49999  NaN  never   \n",
       "1  Some college - no degree  Unemployed  $37500 - $49999  NaN  never   \n",
       "\n",
       "  coffeehouse carryaway restaurantlessthan20 restaurant20to50  \\\n",
       "0       never       NaN                  4~8              1~3   \n",
       "1       never       NaN                  4~8              1~3   \n",
       "\n",
       "   tocoupon_geq5min  tocoupon_geq15min  tocoupon_geq25min  direction_same  \\\n",
       "0                 1                  0                  0               0   \n",
       "1                 1                  0                  0               0   \n",
       "\n",
       "   direction_opp  accept(y/n?)  \n",
       "0              1             1  \n",
       "1              1             0  "
      ]
     },
     "execution_count": 87,
     "metadata": {},
     "output_type": "execute_result"
    }
   ],
   "source": [
    "df1.columns=[x.lower() for x in df1.columns]\n",
    "df1.head(2)"
   ]
  },
  {
   "cell_type": "markdown",
   "id": "afe822b0",
   "metadata": {},
   "source": [
    "### Dropping the unwanted columns"
   ]
  },
  {
   "cell_type": "code",
   "execution_count": 88,
   "id": "ceaf7851",
   "metadata": {},
   "outputs": [],
   "source": [
    "# As driving time and direction are given dropping destination col\n",
    "# As weather column is given dropping the temp column\n",
    "# direction_opp and direction_same giving the same info so dropping direction_opp column\n",
    "\n",
    "df1=df1.drop(columns=['destination','temperature','direction_opp'])"
   ]
  },
  {
   "cell_type": "markdown",
   "id": "1cf0f860",
   "metadata": {},
   "source": [
    "### Handling Missing Values"
   ]
  },
  {
   "cell_type": "code",
   "execution_count": 89,
   "id": "82b2962a",
   "metadata": {},
   "outputs": [
    {
     "data": {
      "text/plain": [
       "passanger                0.000000\n",
       "weather                  0.000000\n",
       "coupon                   0.000000\n",
       "expiration               0.000000\n",
       "gender                   0.000000\n",
       "age                      0.000000\n",
       "maritalstatus            0.000000\n",
       "has_children             0.000000\n",
       "education                0.000000\n",
       "occupation               0.000000\n",
       "income                   0.000000\n",
       "car                     99.148534\n",
       "bar                      0.843582\n",
       "coffeehouse              1.710817\n",
       "carryaway                1.190476\n",
       "restaurantlessthan20     1.024913\n",
       "restaurant20to50         1.490066\n",
       "tocoupon_geq5min         0.000000\n",
       "tocoupon_geq15min        0.000000\n",
       "tocoupon_geq25min        0.000000\n",
       "direction_same           0.000000\n",
       "accept(y/n?)             0.000000\n",
       "dtype: float64"
      ]
     },
     "execution_count": 89,
     "metadata": {},
     "output_type": "execute_result"
    }
   ],
   "source": [
    "# checking for percentage of missing data\n",
    "\n",
    "df1.isnull().sum()/len(df1)*100"
   ]
  },
  {
   "cell_type": "code",
   "execution_count": null,
   "id": "02caaa86",
   "metadata": {},
   "outputs": [],
   "source": []
  },
  {
   "cell_type": "code",
   "execution_count": null,
   "id": "5e23cb3b",
   "metadata": {},
   "outputs": [],
   "source": []
  },
  {
   "cell_type": "code",
   "execution_count": null,
   "id": "27c73c34",
   "metadata": {},
   "outputs": [],
   "source": []
  },
  {
   "cell_type": "code",
   "execution_count": 1,
   "id": "4891c55a",
   "metadata": {},
   "outputs": [
    {
     "data": {
      "text/plain": [
       "'python is this'"
      ]
     },
     "execution_count": 1,
     "metadata": {},
     "output_type": "execute_result"
    }
   ],
   "source": [
    "a=\"this is python\"\n",
    "s=a.split(\" \")\n",
    "s1=s[::-1]\n",
    "s2=\" \".join(s1)\n",
    "s2\n",
    "    "
   ]
  },
  {
   "cell_type": "code",
   "execution_count": null,
   "id": "084c934f",
   "metadata": {},
   "outputs": [],
   "source": []
  },
  {
   "cell_type": "code",
   "execution_count": null,
   "id": "31bd7049",
   "metadata": {},
   "outputs": [],
   "source": []
  },
  {
   "cell_type": "code",
   "execution_count": null,
   "id": "ad5af86e",
   "metadata": {},
   "outputs": [],
   "source": []
  },
  {
   "cell_type": "code",
   "execution_count": null,
   "id": "91f78933",
   "metadata": {},
   "outputs": [],
   "source": []
  },
  {
   "cell_type": "code",
   "execution_count": 90,
   "id": "1668f76b",
   "metadata": {},
   "outputs": [],
   "source": [
    "# in car column we have 99% of missing data so we drop that column\n",
    "\n",
    "df1=df1.drop(columns=['car'])"
   ]
  },
  {
   "cell_type": "code",
   "execution_count": 91,
   "id": "b124066d",
   "metadata": {},
   "outputs": [
    {
     "name": "stdout",
     "output_type": "stream",
     "text": [
      "<class 'pandas.core.frame.DataFrame'>\n",
      "RangeIndex: 12684 entries, 0 to 12683\n",
      "Data columns (total 21 columns):\n",
      " #   Column                Non-Null Count  Dtype \n",
      "---  ------                --------------  ----- \n",
      " 0   passanger             12684 non-null  object\n",
      " 1   weather               12684 non-null  object\n",
      " 2   coupon                12684 non-null  object\n",
      " 3   expiration            12684 non-null  object\n",
      " 4   gender                12684 non-null  object\n",
      " 5   age                   12684 non-null  object\n",
      " 6   maritalstatus         12684 non-null  object\n",
      " 7   has_children          12684 non-null  int64 \n",
      " 8   education             12684 non-null  object\n",
      " 9   occupation            12684 non-null  object\n",
      " 10  income                12684 non-null  object\n",
      " 11  bar                   12577 non-null  object\n",
      " 12  coffeehouse           12467 non-null  object\n",
      " 13  carryaway             12533 non-null  object\n",
      " 14  restaurantlessthan20  12554 non-null  object\n",
      " 15  restaurant20to50      12495 non-null  object\n",
      " 16  tocoupon_geq5min      12684 non-null  int64 \n",
      " 17  tocoupon_geq15min     12684 non-null  int64 \n",
      " 18  tocoupon_geq25min     12684 non-null  int64 \n",
      " 19  direction_same        12684 non-null  int64 \n",
      " 20  accept(y/n?)          12684 non-null  int64 \n",
      "dtypes: int64(6), object(15)\n",
      "memory usage: 2.0+ MB\n"
     ]
    }
   ],
   "source": [
    "df1.info()"
   ]
  },
  {
   "cell_type": "code",
   "execution_count": 92,
   "id": "651500de",
   "metadata": {},
   "outputs": [],
   "source": [
    "# Filling the missing data\n",
    "# Bar,CoffeeHouse,CarryAway,RestaurantLessThan20,Restaurant20To50 --object datatype---filling with mode\n",
    "df1['bar']=df1['bar'].fillna(df1['bar'].mode()[0])\n",
    "df1['coffeehouse']=df1['coffeehouse'].fillna(df1['coffeehouse'].mode()[0])\n",
    "df1['carryaway']=df1['carryaway'].fillna(df1['carryaway'].mode()[0])\n",
    "df1['restaurantlessthan20']=df1['restaurantlessthan20'].fillna(df1['restaurantlessthan20'].mode()[0])\n",
    "df1['restaurant20to50']=df1['restaurant20to50'].fillna(df1['restaurant20to50'].mode()[0])"
   ]
  },
  {
   "cell_type": "code",
   "execution_count": 93,
   "id": "9171f688",
   "metadata": {},
   "outputs": [
    {
     "data": {
      "text/plain": [
       "0"
      ]
     },
     "execution_count": 93,
     "metadata": {},
     "output_type": "execute_result"
    }
   ],
   "source": [
    "df1.isnull().sum().sum()                                        # no missing values found"
   ]
  },
  {
   "cell_type": "markdown",
   "id": "fb8b5452",
   "metadata": {},
   "source": [
    "### Handling duplicates"
   ]
  },
  {
   "cell_type": "code",
   "execution_count": 94,
   "id": "39c67b73",
   "metadata": {},
   "outputs": [
    {
     "data": {
      "text/plain": [
       "1034"
      ]
     },
     "execution_count": 94,
     "metadata": {},
     "output_type": "execute_result"
    }
   ],
   "source": [
    "df1.duplicated().sum()                  # duplicated rows"
   ]
  },
  {
   "cell_type": "code",
   "execution_count": 95,
   "id": "9f909bc8",
   "metadata": {},
   "outputs": [],
   "source": [
    "# Dropping the duplicated rows\n",
    "\n",
    "df1=df1.drop_duplicates(keep='first')"
   ]
  },
  {
   "cell_type": "code",
   "execution_count": 96,
   "id": "5dccfd5e",
   "metadata": {},
   "outputs": [
    {
     "data": {
      "text/plain": [
       "0"
      ]
     },
     "execution_count": 96,
     "metadata": {},
     "output_type": "execute_result"
    }
   ],
   "source": [
    "df1.duplicated().sum()"
   ]
  },
  {
   "cell_type": "code",
   "execution_count": 97,
   "id": "1b1580a2",
   "metadata": {},
   "outputs": [
    {
     "data": {
      "text/plain": [
       "(11650, 21)"
      ]
     },
     "execution_count": 97,
     "metadata": {},
     "output_type": "execute_result"
    }
   ],
   "source": [
    "df1.shape"
   ]
  },
  {
   "cell_type": "markdown",
   "id": "839e97d7",
   "metadata": {},
   "source": [
    "### Analysing and framing the dataset"
   ]
  },
  {
   "cell_type": "code",
   "execution_count": 98,
   "id": "fb4c2d9e",
   "metadata": {},
   "outputs": [
    {
     "name": "stdout",
     "output_type": "stream",
     "text": [
      "<class 'pandas.core.frame.DataFrame'>\n",
      "Index: 11650 entries, 0 to 12683\n",
      "Data columns (total 21 columns):\n",
      " #   Column                Non-Null Count  Dtype \n",
      "---  ------                --------------  ----- \n",
      " 0   passanger             11650 non-null  object\n",
      " 1   weather               11650 non-null  object\n",
      " 2   coupon                11650 non-null  object\n",
      " 3   expiration            11650 non-null  object\n",
      " 4   gender                11650 non-null  object\n",
      " 5   age                   11650 non-null  object\n",
      " 6   maritalstatus         11650 non-null  object\n",
      " 7   has_children          11650 non-null  int64 \n",
      " 8   education             11650 non-null  object\n",
      " 9   occupation            11650 non-null  object\n",
      " 10  income                11650 non-null  object\n",
      " 11  bar                   11650 non-null  object\n",
      " 12  coffeehouse           11650 non-null  object\n",
      " 13  carryaway             11650 non-null  object\n",
      " 14  restaurantlessthan20  11650 non-null  object\n",
      " 15  restaurant20to50      11650 non-null  object\n",
      " 16  tocoupon_geq5min      11650 non-null  int64 \n",
      " 17  tocoupon_geq15min     11650 non-null  int64 \n",
      " 18  tocoupon_geq25min     11650 non-null  int64 \n",
      " 19  direction_same        11650 non-null  int64 \n",
      " 20  accept(y/n?)          11650 non-null  int64 \n",
      "dtypes: int64(6), object(15)\n",
      "memory usage: 2.0+ MB\n"
     ]
    }
   ],
   "source": [
    "df1.info()"
   ]
  },
  {
   "cell_type": "markdown",
   "id": "82f39410",
   "metadata": {},
   "source": [
    "### Analysing categorical Data"
   ]
  },
  {
   "cell_type": "code",
   "execution_count": 99,
   "id": "43103153",
   "metadata": {},
   "outputs": [],
   "source": [
    "# changing the ordinal categorical data from object to categorical\n",
    "\n",
    "df1[['age','education','bar','coffeehouse','carryaway','restaurantlessthan20','restaurant20to50','income']]=df1[['age','education','bar','coffeehouse','carryaway','restaurantlessthan20','restaurant20to50','income']].astype('category')\n"
   ]
  },
  {
   "cell_type": "code",
   "execution_count": 100,
   "id": "e2274cf0",
   "metadata": {},
   "outputs": [
    {
     "name": "stdout",
     "output_type": "stream",
     "text": [
      "<class 'pandas.core.frame.DataFrame'>\n",
      "Index: 11650 entries, 0 to 12683\n",
      "Data columns (total 21 columns):\n",
      " #   Column                Non-Null Count  Dtype   \n",
      "---  ------                --------------  -----   \n",
      " 0   passanger             11650 non-null  object  \n",
      " 1   weather               11650 non-null  object  \n",
      " 2   coupon                11650 non-null  object  \n",
      " 3   expiration            11650 non-null  object  \n",
      " 4   gender                11650 non-null  object  \n",
      " 5   age                   11650 non-null  category\n",
      " 6   maritalstatus         11650 non-null  object  \n",
      " 7   has_children          11650 non-null  int64   \n",
      " 8   education             11650 non-null  category\n",
      " 9   occupation            11650 non-null  object  \n",
      " 10  income                11650 non-null  category\n",
      " 11  bar                   11650 non-null  category\n",
      " 12  coffeehouse           11650 non-null  category\n",
      " 13  carryaway             11650 non-null  category\n",
      " 14  restaurantlessthan20  11650 non-null  category\n",
      " 15  restaurant20to50      11650 non-null  category\n",
      " 16  tocoupon_geq5min      11650 non-null  int64   \n",
      " 17  tocoupon_geq15min     11650 non-null  int64   \n",
      " 18  tocoupon_geq25min     11650 non-null  int64   \n",
      " 19  direction_same        11650 non-null  int64   \n",
      " 20  accept(y/n?)          11650 non-null  int64   \n",
      "dtypes: category(8), int64(6), object(7)\n",
      "memory usage: 1.3+ MB\n"
     ]
    }
   ],
   "source": [
    "df1.info()"
   ]
  },
  {
   "cell_type": "code",
   "execution_count": 101,
   "id": "3579c46b",
   "metadata": {},
   "outputs": [
    {
     "data": {
      "text/plain": [
       "CategoricalDtype(categories=['21', '26', '31', '36', '41', '46', '50plus', 'below21'], ordered=False, categories_dtype=object)"
      ]
     },
     "execution_count": 101,
     "metadata": {},
     "output_type": "execute_result"
    }
   ],
   "source": [
    "df1['age'].dtype"
   ]
  },
  {
   "cell_type": "code",
   "execution_count": 102,
   "id": "b67fe493",
   "metadata": {},
   "outputs": [
    {
     "data": {
      "text/plain": [
       "0        21\n",
       "1        21\n",
       "2        21\n",
       "3        21\n",
       "4        21\n",
       "         ..\n",
       "12679    26\n",
       "12680    26\n",
       "12681    26\n",
       "12682    26\n",
       "12683    26\n",
       "Name: age, Length: 11650, dtype: category\n",
       "Categories (8, object): ['21', '26', '31', '36', '41', '46', '50plus', 'below21']"
      ]
     },
     "execution_count": 102,
     "metadata": {},
     "output_type": "execute_result"
    }
   ],
   "source": [
    "df1['age']"
   ]
  },
  {
   "cell_type": "code",
   "execution_count": 103,
   "id": "b28e2fc6",
   "metadata": {},
   "outputs": [],
   "source": [
    "df1['age']=df1['age'].replace('21','between21-30')\n",
    "df1['age']=df1['age'].replace('26','between21-30')\n",
    "df1['age']=df1['age'].replace('31','between31-40')\n",
    "df1['age']=df1['age'].replace('36','between31-40')\n",
    "df1['age']=df1['age'].replace('41','between41-50')\n",
    "df1['age']=df1['age'].replace('46','between41-50')"
   ]
  },
  {
   "cell_type": "code",
   "execution_count": 104,
   "id": "54f48cc7",
   "metadata": {},
   "outputs": [
    {
     "data": {
      "text/plain": [
       "4202     between41-50\n",
       "12457          50plus\n",
       "6629     between21-30\n",
       "1797     between31-40\n",
       "9801     between41-50\n",
       "Name: age, dtype: category\n",
       "Categories (5, object): ['between21-30', 'between31-40', 'between41-50', '50plus', 'below21']"
      ]
     },
     "execution_count": 104,
     "metadata": {},
     "output_type": "execute_result"
    }
   ],
   "source": [
    "df1['age'].sample(5)                                                    # categories of age reduced from 8 to 5"
   ]
  },
  {
   "cell_type": "code",
   "execution_count": 105,
   "id": "ee009958",
   "metadata": {},
   "outputs": [
    {
     "data": {
      "text/plain": [
       "CategoricalDtype(categories=['1~3', '4~8', 'gt8', 'less1', 'never'], ordered=False, categories_dtype=object)"
      ]
     },
     "execution_count": 105,
     "metadata": {},
     "output_type": "execute_result"
    }
   ],
   "source": [
    "df1['bar'].dtype                                                          "
   ]
  },
  {
   "cell_type": "code",
   "execution_count": 106,
   "id": "724bc2ff",
   "metadata": {},
   "outputs": [
    {
     "data": {
      "text/plain": [
       "CategoricalDtype(categories=['1~3', '4~8', 'gt8', 'less1', 'never'], ordered=False, categories_dtype=object)"
      ]
     },
     "execution_count": 106,
     "metadata": {},
     "output_type": "execute_result"
    }
   ],
   "source": [
    "df1['restaurant20to50'].dtype"
   ]
  },
  {
   "cell_type": "code",
   "execution_count": 107,
   "id": "9b037a2b",
   "metadata": {},
   "outputs": [],
   "source": [
    "df1['bar']=df1['bar'].replace('less1','never')                               # changing 'less1' category to 'never'\n",
    "df1['coffeehouse']=df1['coffeehouse'].replace('less1','never')\n",
    "df1['carryaway']=df1['carryaway'].replace('less1','never')\n",
    "df1['restaurantlessthan20']=df1['restaurantlessthan20'].replace('less1','never')\n",
    "df1['restaurant20to50']=df1['restaurant20to50'].replace('less1','never')"
   ]
  },
  {
   "cell_type": "code",
   "execution_count": 108,
   "id": "2536c03a",
   "metadata": {},
   "outputs": [
    {
     "data": {
      "text/plain": [
       "CategoricalDtype(categories=['1~3', '4~8', 'gt8', 'never'], ordered=False, categories_dtype=object)"
      ]
     },
     "execution_count": 108,
     "metadata": {},
     "output_type": "execute_result"
    }
   ],
   "source": [
    "df1['restaurant20to50'].dtype                                              "
   ]
  },
  {
   "cell_type": "markdown",
   "id": "ab5ae228",
   "metadata": {},
   "source": [
    " Reduced the categories of ordinal categorical features"
   ]
  },
  {
   "cell_type": "markdown",
   "id": "cd113580",
   "metadata": {},
   "source": [
    "#### Analysing nominal categorical features"
   ]
  },
  {
   "cell_type": "code",
   "execution_count": 109,
   "id": "8fc90ead",
   "metadata": {},
   "outputs": [
    {
     "data": {
      "text/plain": [
       "occupation\n",
       "Unemployed                                   1723\n",
       "Student                                      1433\n",
       "Computer & Mathematical                      1277\n",
       "Sales & Related                               990\n",
       "Education&Training&Library                    878\n",
       "Management                                    759\n",
       "Office & Administrative Support               593\n",
       "Arts Design Entertainment Sports & Media      576\n",
       "Business & Financial                          516\n",
       "Retired                                       465\n",
       "Food Preparation & Serving Related            277\n",
       "Healthcare Practitioners & Technical          227\n",
       "Healthcare Support                            224\n",
       "Community & Social Services                   221\n",
       "Legal                                         206\n",
       "Transportation & Material Moving              202\n",
       "Personal Care & Service                       165\n",
       "Architecture & Engineering                    159\n",
       "Protective Service                            159\n",
       "Life Physical Social Science                  152\n",
       "Construction & Extraction                     143\n",
       "Installation Maintenance & Repair             122\n",
       "Production Occupations                        101\n",
       "Building & Grounds Cleaning & Maintenance      42\n",
       "Farming Fishing & Forestry                     40\n",
       "Name: count, dtype: int64"
      ]
     },
     "execution_count": 109,
     "metadata": {},
     "output_type": "execute_result"
    }
   ],
   "source": [
    "df1['occupation'].value_counts()"
   ]
  },
  {
   "cell_type": "code",
   "execution_count": 110,
   "id": "2cc5e602",
   "metadata": {},
   "outputs": [],
   "source": [
    "\n",
    "for i in range(len(df1)):\n",
    "    if df1.iloc[i].occupation not in ['Unemployed','Student','Computer & Mathematical','Sales & Related','Education&Training&Library','Management','Office & Administrative Support','Arts Design Entertainment Sports & Media','Business & Financial','Retired']:\n",
    "        df1.occupation=df1.occupation.replace(df1.iloc[i].occupation,'other')\n"
   ]
  },
  {
   "cell_type": "code",
   "execution_count": 111,
   "id": "efee62df",
   "metadata": {},
   "outputs": [
    {
     "data": {
      "text/plain": [
       "occupation\n",
       "other                                       2440\n",
       "Unemployed                                  1723\n",
       "Student                                     1433\n",
       "Computer & Mathematical                     1277\n",
       "Sales & Related                              990\n",
       "Education&Training&Library                   878\n",
       "Management                                   759\n",
       "Office & Administrative Support              593\n",
       "Arts Design Entertainment Sports & Media     576\n",
       "Business & Financial                         516\n",
       "Retired                                      465\n",
       "Name: count, dtype: int64"
      ]
     },
     "execution_count": 111,
     "metadata": {},
     "output_type": "execute_result"
    }
   ],
   "source": [
    "df1.occupation.value_counts()"
   ]
  },
  {
   "cell_type": "markdown",
   "id": "fb0f3e5a",
   "metadata": {},
   "source": [
    "Reduced the categories of nominal categorical data which inturn reduces the features after performing encoding"
   ]
  },
  {
   "cell_type": "markdown",
   "id": "a906c690",
   "metadata": {},
   "source": [
    "#### Analysing Boolean Data"
   ]
  },
  {
   "cell_type": "code",
   "execution_count": 112,
   "id": "8f2f8f9e",
   "metadata": {},
   "outputs": [],
   "source": [
    "# changing the boolean data from int to object\n",
    "\n",
    "df1[['has_children','tocoupon_geq5min','tocoupon_geq15min','tocoupon_geq25min','direction_same','accept(y/n?)']]=df1[['has_children','tocoupon_geq5min','tocoupon_geq15min','tocoupon_geq25min','direction_same','accept(y/n?)']].astype('bool')\n",
    "\n"
   ]
  },
  {
   "cell_type": "code",
   "execution_count": 113,
   "id": "b7f57e7e",
   "metadata": {},
   "outputs": [],
   "source": [
    "df1[['has_children','tocoupon_geq5min','tocoupon_geq15min','tocoupon_geq25min','direction_same','accept(y/n?)']]=df1[['has_children','tocoupon_geq5min','tocoupon_geq15min','tocoupon_geq25min','direction_same','accept(y/n?)']].replace({True:'0',False:'1'})"
   ]
  },
  {
   "cell_type": "code",
   "execution_count": 114,
   "id": "3d05d6cb",
   "metadata": {},
   "outputs": [
    {
     "name": "stdout",
     "output_type": "stream",
     "text": [
      "<class 'pandas.core.frame.DataFrame'>\n",
      "Index: 11650 entries, 0 to 12683\n",
      "Data columns (total 21 columns):\n",
      " #   Column                Non-Null Count  Dtype   \n",
      "---  ------                --------------  -----   \n",
      " 0   passanger             11650 non-null  object  \n",
      " 1   weather               11650 non-null  object  \n",
      " 2   coupon                11650 non-null  object  \n",
      " 3   expiration            11650 non-null  object  \n",
      " 4   gender                11650 non-null  object  \n",
      " 5   age                   11650 non-null  category\n",
      " 6   maritalstatus         11650 non-null  object  \n",
      " 7   has_children          11650 non-null  object  \n",
      " 8   education             11650 non-null  category\n",
      " 9   occupation            11650 non-null  object  \n",
      " 10  income                11650 non-null  category\n",
      " 11  bar                   11650 non-null  category\n",
      " 12  coffeehouse           11650 non-null  category\n",
      " 13  carryaway             11650 non-null  category\n",
      " 14  restaurantlessthan20  11650 non-null  category\n",
      " 15  restaurant20to50      11650 non-null  category\n",
      " 16  tocoupon_geq5min      11650 non-null  object  \n",
      " 17  tocoupon_geq15min     11650 non-null  object  \n",
      " 18  tocoupon_geq25min     11650 non-null  object  \n",
      " 19  direction_same        11650 non-null  object  \n",
      " 20  accept(y/n?)          11650 non-null  object  \n",
      "dtypes: category(8), object(13)\n",
      "memory usage: 1.3+ MB\n"
     ]
    }
   ],
   "source": [
    "df1.info()"
   ]
  },
  {
   "cell_type": "code",
   "execution_count": 115,
   "id": "62930c1e",
   "metadata": {},
   "outputs": [
    {
     "data": {
      "text/html": [
       "<div>\n",
       "<style scoped>\n",
       "    .dataframe tbody tr th:only-of-type {\n",
       "        vertical-align: middle;\n",
       "    }\n",
       "\n",
       "    .dataframe tbody tr th {\n",
       "        vertical-align: top;\n",
       "    }\n",
       "\n",
       "    .dataframe thead th {\n",
       "        text-align: right;\n",
       "    }\n",
       "</style>\n",
       "<table border=\"1\" class=\"dataframe\">\n",
       "  <thead>\n",
       "    <tr style=\"text-align: right;\">\n",
       "      <th></th>\n",
       "      <th>passanger</th>\n",
       "      <th>weather</th>\n",
       "      <th>coupon</th>\n",
       "      <th>expiration</th>\n",
       "      <th>gender</th>\n",
       "      <th>age</th>\n",
       "      <th>maritalstatus</th>\n",
       "      <th>has_children</th>\n",
       "      <th>education</th>\n",
       "      <th>occupation</th>\n",
       "      <th>income</th>\n",
       "      <th>bar</th>\n",
       "      <th>coffeehouse</th>\n",
       "      <th>carryaway</th>\n",
       "      <th>restaurantlessthan20</th>\n",
       "      <th>restaurant20to50</th>\n",
       "      <th>tocoupon_geq5min</th>\n",
       "      <th>tocoupon_geq15min</th>\n",
       "      <th>tocoupon_geq25min</th>\n",
       "      <th>direction_same</th>\n",
       "      <th>accept(y/n?)</th>\n",
       "    </tr>\n",
       "  </thead>\n",
       "  <tbody>\n",
       "    <tr>\n",
       "      <th>0</th>\n",
       "      <td>Alone</td>\n",
       "      <td>Sunny</td>\n",
       "      <td>Restaurant(&lt;20)</td>\n",
       "      <td>1d</td>\n",
       "      <td>Female</td>\n",
       "      <td>between21-30</td>\n",
       "      <td>Unmarried partner</td>\n",
       "      <td>0</td>\n",
       "      <td>Some college - no degree</td>\n",
       "      <td>Unemployed</td>\n",
       "      <td>$37500 - $49999</td>\n",
       "      <td>never</td>\n",
       "      <td>never</td>\n",
       "      <td>1~3</td>\n",
       "      <td>4~8</td>\n",
       "      <td>1~3</td>\n",
       "      <td>0</td>\n",
       "      <td>1</td>\n",
       "      <td>1</td>\n",
       "      <td>1</td>\n",
       "      <td>0</td>\n",
       "    </tr>\n",
       "  </tbody>\n",
       "</table>\n",
       "</div>"
      ],
      "text/plain": [
       "  passanger weather           coupon expiration  gender           age  \\\n",
       "0     Alone   Sunny  Restaurant(<20)         1d  Female  between21-30   \n",
       "\n",
       "       maritalstatus has_children                 education  occupation  \\\n",
       "0  Unmarried partner            0  Some college - no degree  Unemployed   \n",
       "\n",
       "            income    bar coffeehouse carryaway restaurantlessthan20  \\\n",
       "0  $37500 - $49999  never       never       1~3                  4~8   \n",
       "\n",
       "  restaurant20to50 tocoupon_geq5min tocoupon_geq15min tocoupon_geq25min  \\\n",
       "0              1~3                0                 1                 1   \n",
       "\n",
       "  direction_same accept(y/n?)  \n",
       "0              1            0  "
      ]
     },
     "execution_count": 115,
     "metadata": {},
     "output_type": "execute_result"
    }
   ],
   "source": [
    "df1.head(1)"
   ]
  },
  {
   "cell_type": "code",
   "execution_count": 116,
   "id": "9145f069",
   "metadata": {},
   "outputs": [],
   "source": [
    "df2=df1.copy()"
   ]
  },
  {
   "cell_type": "code",
   "execution_count": 117,
   "id": "e1699157",
   "metadata": {},
   "outputs": [
    {
     "data": {
      "text/plain": [
       "array(['1d', '2h'], dtype=object)"
      ]
     },
     "execution_count": 117,
     "metadata": {},
     "output_type": "execute_result"
    }
   ],
   "source": [
    "df2['expiration'].unique()"
   ]
  },
  {
   "cell_type": "code",
   "execution_count": 118,
   "id": "01bfc813",
   "metadata": {
    "scrolled": true
   },
   "outputs": [
    {
     "data": {
      "text/html": [
       "<div>\n",
       "<style scoped>\n",
       "    .dataframe tbody tr th:only-of-type {\n",
       "        vertical-align: middle;\n",
       "    }\n",
       "\n",
       "    .dataframe tbody tr th {\n",
       "        vertical-align: top;\n",
       "    }\n",
       "\n",
       "    .dataframe thead th {\n",
       "        text-align: right;\n",
       "    }\n",
       "</style>\n",
       "<table border=\"1\" class=\"dataframe\">\n",
       "  <thead>\n",
       "    <tr style=\"text-align: right;\">\n",
       "      <th></th>\n",
       "      <th>passanger</th>\n",
       "      <th>weather</th>\n",
       "      <th>coupon</th>\n",
       "      <th>expiration</th>\n",
       "      <th>gender</th>\n",
       "      <th>age</th>\n",
       "      <th>maritalstatus</th>\n",
       "      <th>has_children</th>\n",
       "      <th>education</th>\n",
       "      <th>occupation</th>\n",
       "      <th>income</th>\n",
       "      <th>bar</th>\n",
       "      <th>coffeehouse</th>\n",
       "      <th>carryaway</th>\n",
       "      <th>restaurantlessthan20</th>\n",
       "      <th>restaurant20to50</th>\n",
       "      <th>tocoupon_geq5min</th>\n",
       "      <th>tocoupon_geq15min</th>\n",
       "      <th>tocoupon_geq25min</th>\n",
       "      <th>direction_same</th>\n",
       "      <th>accept(y/n?)</th>\n",
       "    </tr>\n",
       "  </thead>\n",
       "  <tbody>\n",
       "    <tr>\n",
       "      <th>count</th>\n",
       "      <td>11650</td>\n",
       "      <td>11650</td>\n",
       "      <td>11650</td>\n",
       "      <td>11650</td>\n",
       "      <td>11650</td>\n",
       "      <td>11650</td>\n",
       "      <td>11650</td>\n",
       "      <td>11650</td>\n",
       "      <td>11650</td>\n",
       "      <td>11650</td>\n",
       "      <td>11650</td>\n",
       "      <td>11650</td>\n",
       "      <td>11650</td>\n",
       "      <td>11650</td>\n",
       "      <td>11650</td>\n",
       "      <td>11650</td>\n",
       "      <td>11650</td>\n",
       "      <td>11650</td>\n",
       "      <td>11650</td>\n",
       "      <td>11650</td>\n",
       "      <td>11650</td>\n",
       "    </tr>\n",
       "    <tr>\n",
       "      <th>unique</th>\n",
       "      <td>4</td>\n",
       "      <td>3</td>\n",
       "      <td>5</td>\n",
       "      <td>2</td>\n",
       "      <td>2</td>\n",
       "      <td>5</td>\n",
       "      <td>5</td>\n",
       "      <td>2</td>\n",
       "      <td>6</td>\n",
       "      <td>11</td>\n",
       "      <td>9</td>\n",
       "      <td>4</td>\n",
       "      <td>4</td>\n",
       "      <td>4</td>\n",
       "      <td>4</td>\n",
       "      <td>4</td>\n",
       "      <td>1</td>\n",
       "      <td>2</td>\n",
       "      <td>2</td>\n",
       "      <td>2</td>\n",
       "      <td>2</td>\n",
       "    </tr>\n",
       "    <tr>\n",
       "      <th>top</th>\n",
       "      <td>Alone</td>\n",
       "      <td>Sunny</td>\n",
       "      <td>Coffee House</td>\n",
       "      <td>1d</td>\n",
       "      <td>Female</td>\n",
       "      <td>between21-30</td>\n",
       "      <td>Married partner</td>\n",
       "      <td>1</td>\n",
       "      <td>Bachelors degree</td>\n",
       "      <td>other</td>\n",
       "      <td>$25000 - $37499</td>\n",
       "      <td>never</td>\n",
       "      <td>never</td>\n",
       "      <td>1~3</td>\n",
       "      <td>1~3</td>\n",
       "      <td>never</td>\n",
       "      <td>0</td>\n",
       "      <td>0</td>\n",
       "      <td>1</td>\n",
       "      <td>1</td>\n",
       "      <td>0</td>\n",
       "    </tr>\n",
       "    <tr>\n",
       "      <th>freq</th>\n",
       "      <td>6523</td>\n",
       "      <td>9220</td>\n",
       "      <td>3771</td>\n",
       "      <td>6372</td>\n",
       "      <td>5971</td>\n",
       "      <td>4742</td>\n",
       "      <td>4787</td>\n",
       "      <td>6750</td>\n",
       "      <td>4001</td>\n",
       "      <td>2440</td>\n",
       "      <td>1840</td>\n",
       "      <td>8074</td>\n",
       "      <td>6041</td>\n",
       "      <td>4440</td>\n",
       "      <td>5104</td>\n",
       "      <td>7725</td>\n",
       "      <td>11650</td>\n",
       "      <td>6656</td>\n",
       "      <td>10311</td>\n",
       "      <td>9113</td>\n",
       "      <td>6525</td>\n",
       "    </tr>\n",
       "  </tbody>\n",
       "</table>\n",
       "</div>"
      ],
      "text/plain": [
       "       passanger weather        coupon expiration  gender           age  \\\n",
       "count      11650   11650         11650      11650   11650         11650   \n",
       "unique         4       3             5          2       2             5   \n",
       "top        Alone   Sunny  Coffee House         1d  Female  between21-30   \n",
       "freq        6523    9220          3771       6372    5971          4742   \n",
       "\n",
       "          maritalstatus has_children         education occupation  \\\n",
       "count             11650        11650             11650      11650   \n",
       "unique                5            2                 6         11   \n",
       "top     Married partner            1  Bachelors degree      other   \n",
       "freq               4787         6750              4001       2440   \n",
       "\n",
       "                 income    bar coffeehouse carryaway restaurantlessthan20  \\\n",
       "count             11650  11650       11650     11650                11650   \n",
       "unique                9      4           4         4                    4   \n",
       "top     $25000 - $37499  never       never       1~3                  1~3   \n",
       "freq               1840   8074        6041      4440                 5104   \n",
       "\n",
       "       restaurant20to50 tocoupon_geq5min tocoupon_geq15min tocoupon_geq25min  \\\n",
       "count             11650            11650             11650             11650   \n",
       "unique                4                1                 2                 2   \n",
       "top               never                0                 0                 1   \n",
       "freq               7725            11650              6656             10311   \n",
       "\n",
       "       direction_same accept(y/n?)  \n",
       "count           11650        11650  \n",
       "unique              2            2  \n",
       "top                 1            0  \n",
       "freq             9113         6525  "
      ]
     },
     "execution_count": 118,
     "metadata": {},
     "output_type": "execute_result"
    }
   ],
   "source": [
    "df1.describe()"
   ]
  },
  {
   "cell_type": "markdown",
   "id": "7ff42a88",
   "metadata": {},
   "source": [
    "tocoupon_geq5min feature have only 1 category i.e 0->false, the data is incorrect because we have 1->true values for >15min and >25min so it has to be 1 instead of 0. it means person has to drive min 5 min to reach rest/cafe/bar. and it is a zero variance column so we can drop it."
   ]
  },
  {
   "cell_type": "code",
   "execution_count": 119,
   "id": "6cd94889",
   "metadata": {},
   "outputs": [],
   "source": [
    "df1=df1.drop(columns=['tocoupon_geq5min'])"
   ]
  },
  {
   "cell_type": "code",
   "execution_count": 120,
   "id": "5745d169",
   "metadata": {},
   "outputs": [
    {
     "data": {
      "text/plain": [
       "Index(['passanger', 'weather', 'coupon', 'expiration', 'gender', 'age',\n",
       "       'maritalstatus', 'has_children', 'education', 'occupation', 'income',\n",
       "       'bar', 'coffeehouse', 'carryaway', 'restaurantlessthan20',\n",
       "       'restaurant20to50', 'tocoupon_geq15min', 'tocoupon_geq25min',\n",
       "       'direction_same', 'accept(y/n?)'],\n",
       "      dtype='object')"
      ]
     },
     "execution_count": 120,
     "metadata": {},
     "output_type": "execute_result"
    }
   ],
   "source": [
    "df1.columns"
   ]
  },
  {
   "cell_type": "markdown",
   "id": "e0933539",
   "metadata": {},
   "source": [
    "## Exploratory Data Analysis"
   ]
  },
  {
   "cell_type": "markdown",
   "id": "ec5a1824",
   "metadata": {},
   "source": [
    "### Univariate Analysis"
   ]
  },
  {
   "cell_type": "code",
   "execution_count": 121,
   "id": "9eaf8252",
   "metadata": {},
   "outputs": [
    {
     "data": {
      "text/plain": [
       "<Axes: ylabel='count'>"
      ]
     },
     "execution_count": 121,
     "metadata": {},
     "output_type": "execute_result"
    },
    {
     "data": {
      "image/png": "[encoded data removed]",
      "text/plain": [
       "<Figure size 640x480 with 1 Axes>"
      ]
     },
     "metadata": {},
     "output_type": "display_data"
    }
   ],
   "source": [
    "df1['accept(y/n?)'].value_counts().plot(kind='pie', autopct='%.2f')"
   ]
  },
  {
   "cell_type": "markdown",
   "id": "6e7aaa64",
   "metadata": {},
   "source": [
    "nearly 44% people accepted the coupon and 56% didn't accepted"
   ]
  },
  {
   "cell_type": "code",
   "execution_count": 122,
   "id": "e731bc4b",
   "metadata": {},
   "outputs": [
    {
     "name": "stderr",
     "output_type": "stream",
     "text": [
      "/Users/sp953694/Library/Python/3.9/lib/python/site-packages/seaborn/_oldcore.py:1498: FutureWarning: is_categorical_dtype is deprecated and will be removed in a future version. Use isinstance(dtype, CategoricalDtype) instead\n",
      "  if pd.api.types.is_categorical_dtype(vector):\n",
      "/Users/sp953694/Library/Python/3.9/lib/python/site-packages/seaborn/_oldcore.py:1498: FutureWarning: is_categorical_dtype is deprecated and will be removed in a future version. Use isinstance(dtype, CategoricalDtype) instead\n",
      "  if pd.api.types.is_categorical_dtype(vector):\n",
      "/Users/sp953694/Library/Python/3.9/lib/python/site-packages/seaborn/_oldcore.py:1498: FutureWarning: is_categorical_dtype is deprecated and will be removed in a future version. Use isinstance(dtype, CategoricalDtype) instead\n",
      "  if pd.api.types.is_categorical_dtype(vector):\n",
      "/Users/sp953694/Library/Python/3.9/lib/python/site-packages/seaborn/_oldcore.py:1498: FutureWarning: is_categorical_dtype is deprecated and will be removed in a future version. Use isinstance(dtype, CategoricalDtype) instead\n",
      "  if pd.api.types.is_categorical_dtype(vector):\n",
      "/Users/sp953694/Library/Python/3.9/lib/python/site-packages/seaborn/_oldcore.py:1498: FutureWarning: is_categorical_dtype is deprecated and will be removed in a future version. Use isinstance(dtype, CategoricalDtype) instead\n",
      "  if pd.api.types.is_categorical_dtype(vector):\n",
      "/Users/sp953694/Library/Python/3.9/lib/python/site-packages/seaborn/_oldcore.py:1498: FutureWarning: is_categorical_dtype is deprecated and will be removed in a future version. Use isinstance(dtype, CategoricalDtype) instead\n",
      "  if pd.api.types.is_categorical_dtype(vector):\n",
      "/Users/sp953694/Library/Python/3.9/lib/python/site-packages/seaborn/_oldcore.py:1498: FutureWarning: is_categorical_dtype is deprecated and will be removed in a future version. Use isinstance(dtype, CategoricalDtype) instead\n",
      "  if pd.api.types.is_categorical_dtype(vector):\n",
      "/Users/sp953694/Library/Python/3.9/lib/python/site-packages/seaborn/_oldcore.py:1498: FutureWarning: is_categorical_dtype is deprecated and will be removed in a future version. Use isinstance(dtype, CategoricalDtype) instead\n",
      "  if pd.api.types.is_categorical_dtype(vector):\n",
      "/Users/sp953694/Library/Python/3.9/lib/python/site-packages/seaborn/_oldcore.py:1498: FutureWarning: is_categorical_dtype is deprecated and will be removed in a future version. Use isinstance(dtype, CategoricalDtype) instead\n",
      "  if pd.api.types.is_categorical_dtype(vector):\n",
      "/Users/sp953694/Library/Python/3.9/lib/python/site-packages/seaborn/_oldcore.py:1498: FutureWarning: is_categorical_dtype is deprecated and will be removed in a future version. Use isinstance(dtype, CategoricalDtype) instead\n",
      "  if pd.api.types.is_categorical_dtype(vector):\n",
      "/Users/sp953694/Library/Python/3.9/lib/python/site-packages/seaborn/categorical.py:641: FutureWarning: The default of observed=False is deprecated and will be changed to True in a future version of pandas. Pass observed=False to retain current behavior or observed=True to adopt the future default and silence this warning.\n",
      "  grouped_vals = vals.groupby(grouper)\n",
      "/Users/sp953694/Library/Python/3.9/lib/python/site-packages/seaborn/_oldcore.py:1498: FutureWarning: is_categorical_dtype is deprecated and will be removed in a future version. Use isinstance(dtype, CategoricalDtype) instead\n",
      "  if pd.api.types.is_categorical_dtype(vector):\n",
      "/Users/sp953694/Library/Python/3.9/lib/python/site-packages/seaborn/_oldcore.py:1498: FutureWarning: is_categorical_dtype is deprecated and will be removed in a future version. Use isinstance(dtype, CategoricalDtype) instead\n",
      "  if pd.api.types.is_categorical_dtype(vector):\n",
      "/Users/sp953694/Library/Python/3.9/lib/python/site-packages/seaborn/_oldcore.py:1498: FutureWarning: is_categorical_dtype is deprecated and will be removed in a future version. Use isinstance(dtype, CategoricalDtype) instead\n",
      "  if pd.api.types.is_categorical_dtype(vector):\n",
      "/Users/sp953694/Library/Python/3.9/lib/python/site-packages/seaborn/_oldcore.py:1498: FutureWarning: is_categorical_dtype is deprecated and will be removed in a future version. Use isinstance(dtype, CategoricalDtype) instead\n",
      "  if pd.api.types.is_categorical_dtype(vector):\n",
      "/Users/sp953694/Library/Python/3.9/lib/python/site-packages/seaborn/_oldcore.py:1498: FutureWarning: is_categorical_dtype is deprecated and will be removed in a future version. Use isinstance(dtype, CategoricalDtype) instead\n",
      "  if pd.api.types.is_categorical_dtype(vector):\n",
      "/Users/sp953694/Library/Python/3.9/lib/python/site-packages/seaborn/_oldcore.py:1498: FutureWarning: is_categorical_dtype is deprecated and will be removed in a future version. Use isinstance(dtype, CategoricalDtype) instead\n",
      "  if pd.api.types.is_categorical_dtype(vector):\n",
      "/Users/sp953694/Library/Python/3.9/lib/python/site-packages/seaborn/_oldcore.py:1498: FutureWarning: is_categorical_dtype is deprecated and will be removed in a future version. Use isinstance(dtype, CategoricalDtype) instead\n",
      "  if pd.api.types.is_categorical_dtype(vector):\n",
      "/Users/sp953694/Library/Python/3.9/lib/python/site-packages/seaborn/_oldcore.py:1498: FutureWarning: is_categorical_dtype is deprecated and will be removed in a future version. Use isinstance(dtype, CategoricalDtype) instead\n",
      "  if pd.api.types.is_categorical_dtype(vector):\n",
      "/Users/sp953694/Library/Python/3.9/lib/python/site-packages/seaborn/_oldcore.py:1498: FutureWarning: is_categorical_dtype is deprecated and will be removed in a future version. Use isinstance(dtype, CategoricalDtype) instead\n",
      "  if pd.api.types.is_categorical_dtype(vector):\n",
      "/Users/sp953694/Library/Python/3.9/lib/python/site-packages/seaborn/categorical.py:641: FutureWarning: The default of observed=False is deprecated and will be changed to True in a future version of pandas. Pass observed=False to retain current behavior or observed=True to adopt the future default and silence this warning.\n",
      "  grouped_vals = vals.groupby(grouper)\n"
     ]
    },
    {
     "data": {
      "text/plain": [
       "<Axes: xlabel='coffeehouse', ylabel='count'>"
      ]
     },
     "execution_count": 122,
     "metadata": {},
     "output_type": "execute_result"
    },
    {
     "data": {
      "image/png": "[encoded data removed]",
      "text/plain": [
       "<Figure size 2000x1000 with 9 Axes>"
      ]
     },
     "metadata": {},
     "output_type": "display_data"
    }
   ],
   "source": [
    "fig,ax=plt.subplots(3,3,figsize=(20,10))\n",
    "sns.countplot(x='weather',data=df1,ax=ax[0,0])\n",
    "sns.countplot(x='coupon',data=df1,ax=ax[0,1])\n",
    "sns.countplot(x='gender',data=df1,ax=ax[0,2])\n",
    "sns.countplot(x='age',data=df1,ax=ax[1,0])\n",
    "sns.countplot(x='maritalstatus',data=df1,ax=ax[1,1])\n",
    "sns.countplot(x='expiration',data=df1,ax=ax[1,2])\n",
    "sns.countplot(x='direction_same',data=df1,ax=ax[2,0])\n",
    "sns.countplot(x='bar',data=df1,ax=ax[2,1])\n",
    "sns.countplot(x='coffeehouse',data=df1,ax=ax[2,2])\n"
   ]
  },
  {
   "cell_type": "code",
   "execution_count": 123,
   "id": "516f7a3a",
   "metadata": {},
   "outputs": [
    {
     "name": "stderr",
     "output_type": "stream",
     "text": [
      "/Users/sp953694/Library/Python/3.9/lib/python/site-packages/seaborn/_oldcore.py:1498: FutureWarning: is_categorical_dtype is deprecated and will be removed in a future version. Use isinstance(dtype, CategoricalDtype) instead\n",
      "  if pd.api.types.is_categorical_dtype(vector):\n",
      "/Users/sp953694/Library/Python/3.9/lib/python/site-packages/seaborn/_oldcore.py:1498: FutureWarning: is_categorical_dtype is deprecated and will be removed in a future version. Use isinstance(dtype, CategoricalDtype) instead\n",
      "  if pd.api.types.is_categorical_dtype(vector):\n",
      "/Users/sp953694/Library/Python/3.9/lib/python/site-packages/seaborn/_oldcore.py:1498: FutureWarning: is_categorical_dtype is deprecated and will be removed in a future version. Use isinstance(dtype, CategoricalDtype) instead\n",
      "  if pd.api.types.is_categorical_dtype(vector):\n",
      "/Users/sp953694/Library/Python/3.9/lib/python/site-packages/seaborn/_oldcore.py:1498: FutureWarning: is_categorical_dtype is deprecated and will be removed in a future version. Use isinstance(dtype, CategoricalDtype) instead\n",
      "  if pd.api.types.is_categorical_dtype(vector):\n",
      "/Users/sp953694/Library/Python/3.9/lib/python/site-packages/seaborn/_oldcore.py:1498: FutureWarning: is_categorical_dtype is deprecated and will be removed in a future version. Use isinstance(dtype, CategoricalDtype) instead\n",
      "  if pd.api.types.is_categorical_dtype(vector):\n",
      "/Users/sp953694/Library/Python/3.9/lib/python/site-packages/seaborn/_oldcore.py:1498: FutureWarning: is_categorical_dtype is deprecated and will be removed in a future version. Use isinstance(dtype, CategoricalDtype) instead\n",
      "  if pd.api.types.is_categorical_dtype(vector):\n",
      "/Users/sp953694/Library/Python/3.9/lib/python/site-packages/seaborn/categorical.py:641: FutureWarning: The default of observed=False is deprecated and will be changed to True in a future version of pandas. Pass observed=False to retain current behavior or observed=True to adopt the future default and silence this warning.\n",
      "  grouped_vals = vals.groupby(grouper)\n",
      "/Users/sp953694/Library/Python/3.9/lib/python/site-packages/seaborn/_oldcore.py:1498: FutureWarning: is_categorical_dtype is deprecated and will be removed in a future version. Use isinstance(dtype, CategoricalDtype) instead\n",
      "  if pd.api.types.is_categorical_dtype(vector):\n",
      "/Users/sp953694/Library/Python/3.9/lib/python/site-packages/seaborn/_oldcore.py:1498: FutureWarning: is_categorical_dtype is deprecated and will be removed in a future version. Use isinstance(dtype, CategoricalDtype) instead\n",
      "  if pd.api.types.is_categorical_dtype(vector):\n"
     ]
    },
    {
     "data": {
      "text/plain": [
       "<Axes: xlabel='accept(y/n?)', ylabel='count'>"
      ]
     },
     "execution_count": 123,
     "metadata": {},
     "output_type": "execute_result"
    },
    {
     "data": {
      "image/png": "[encoded data removed]",
      "text/plain": [
       "<Figure size 2000x1000 with 6 Axes>"
      ]
     },
     "metadata": {},
     "output_type": "display_data"
    }
   ],
   "source": [
    "fig,ax=plt.subplots(3,2,figsize=(20,10))\n",
    "sns.countplot(x='restaurantlessthan20',data=df1,ax=ax[0,0])\n",
    "sns.countplot(x='restaurant20to50',data=df1,ax=ax[0,1])\n",
    "sns.countplot(x='tocoupon_geq15min',data=df1,ax=ax[1,0])\n",
    "sns.countplot(x='tocoupon_geq25min',data=df1,ax=ax[1,1])\n",
    "sns.countplot(x='income',data=df1,ax=ax[2,0])\n",
    "sns.countplot(x='accept(y/n?)',data=df1,ax=ax[2,1])"
   ]
  },
  {
   "cell_type": "markdown",
   "id": "7c017d6e",
   "metadata": {},
   "source": [
    "The number of males and females is almost equal, out of which majority of people have age between 21-30 years. Most of them are unemployers and students, most coupons are of coffeehouse and mostly the coupons have 1 day expiration. "
   ]
  },
  {
   "cell_type": "code",
   "execution_count": 124,
   "id": "6b0be5e2",
   "metadata": {},
   "outputs": [
    {
     "data": {
      "text/plain": [
       "<Axes: ylabel='count'>"
      ]
     },
     "execution_count": 124,
     "metadata": {},
     "output_type": "execute_result"
    },
    {
     "data": {
      "image/png": "[encoded data removed]",
      "text/plain": [
       "<Figure size 640x480 with 1 Axes>"
      ]
     },
     "metadata": {},
     "output_type": "display_data"
    }
   ],
   "source": [
    "df1['occupation'].value_counts().plot(kind='pie')"
   ]
  },
  {
   "cell_type": "code",
   "execution_count": null,
   "id": "e4883204",
   "metadata": {},
   "outputs": [],
   "source": []
  },
  {
   "cell_type": "code",
   "execution_count": 125,
   "id": "78b93381",
   "metadata": {},
   "outputs": [
    {
     "name": "stderr",
     "output_type": "stream",
     "text": [
      "/Users/sp953694/Library/Python/3.9/lib/python/site-packages/seaborn/_oldcore.py:1498: FutureWarning: is_categorical_dtype is deprecated and will be removed in a future version. Use isinstance(dtype, CategoricalDtype) instead\n",
      "  if pd.api.types.is_categorical_dtype(vector):\n",
      "/Users/sp953694/Library/Python/3.9/lib/python/site-packages/seaborn/categorical.py:641: FutureWarning: The default of observed=False is deprecated and will be changed to True in a future version of pandas. Pass observed=False to retain current behavior or observed=True to adopt the future default and silence this warning.\n",
      "  grouped_vals = vals.groupby(grouper)\n"
     ]
    },
    {
     "data": {
      "text/plain": [
       "<Axes: xlabel='carryaway', ylabel='count'>"
      ]
     },
     "execution_count": 125,
     "metadata": {},
     "output_type": "execute_result"
    },
    {
     "data": {
      "image/png": "[encoded data removed]",
      "text/plain": [
       "<Figure size 640x480 with 1 Axes>"
      ]
     },
     "metadata": {},
     "output_type": "display_data"
    }
   ],
   "source": [
    "sns.countplot(x='carryaway',data=df1)"
   ]
  },
  {
   "cell_type": "code",
   "execution_count": null,
   "id": "be6ddfed",
   "metadata": {},
   "outputs": [],
   "source": []
  },
  {
   "cell_type": "markdown",
   "id": "6ee62102",
   "metadata": {},
   "source": [
    "## Multivariate Analysis"
   ]
  },
  {
   "cell_type": "markdown",
   "id": "21c85df8",
   "metadata": {},
   "source": [
    "### Gender and coupon acceptance"
   ]
  },
  {
   "cell_type": "code",
   "execution_count": 126,
   "id": "0549be40",
   "metadata": {},
   "outputs": [
    {
     "name": "stderr",
     "output_type": "stream",
     "text": [
      "/Users/sp953694/Library/Python/3.9/lib/python/site-packages/seaborn/_oldcore.py:1498: FutureWarning: is_categorical_dtype is deprecated and will be removed in a future version. Use isinstance(dtype, CategoricalDtype) instead\n",
      "  if pd.api.types.is_categorical_dtype(vector):\n",
      "/Users/sp953694/Library/Python/3.9/lib/python/site-packages/seaborn/_oldcore.py:1498: FutureWarning: is_categorical_dtype is deprecated and will be removed in a future version. Use isinstance(dtype, CategoricalDtype) instead\n",
      "  if pd.api.types.is_categorical_dtype(vector):\n",
      "/Users/sp953694/Library/Python/3.9/lib/python/site-packages/seaborn/_oldcore.py:1498: FutureWarning: is_categorical_dtype is deprecated and will be removed in a future version. Use isinstance(dtype, CategoricalDtype) instead\n",
      "  if pd.api.types.is_categorical_dtype(vector):\n",
      "/Users/sp953694/Library/Python/3.9/lib/python/site-packages/seaborn/_oldcore.py:1498: FutureWarning: is_categorical_dtype is deprecated and will be removed in a future version. Use isinstance(dtype, CategoricalDtype) instead\n",
      "  if pd.api.types.is_categorical_dtype(vector):\n",
      "/Users/sp953694/Library/Python/3.9/lib/python/site-packages/seaborn/_oldcore.py:1498: FutureWarning: is_categorical_dtype is deprecated and will be removed in a future version. Use isinstance(dtype, CategoricalDtype) instead\n",
      "  if pd.api.types.is_categorical_dtype(vector):\n",
      "/Users/sp953694/Library/Python/3.9/lib/python/site-packages/seaborn/_oldcore.py:1498: FutureWarning: is_categorical_dtype is deprecated and will be removed in a future version. Use isinstance(dtype, CategoricalDtype) instead\n",
      "  if pd.api.types.is_categorical_dtype(vector):\n",
      "/Users/sp953694/Library/Python/3.9/lib/python/site-packages/seaborn/_oldcore.py:1498: FutureWarning: is_categorical_dtype is deprecated and will be removed in a future version. Use isinstance(dtype, CategoricalDtype) instead\n",
      "  if pd.api.types.is_categorical_dtype(vector):\n",
      "/Users/sp953694/Library/Python/3.9/lib/python/site-packages/seaborn/_oldcore.py:1498: FutureWarning: is_categorical_dtype is deprecated and will be removed in a future version. Use isinstance(dtype, CategoricalDtype) instead\n",
      "  if pd.api.types.is_categorical_dtype(vector):\n",
      "/Users/sp953694/Library/Python/3.9/lib/python/site-packages/seaborn/_oldcore.py:1498: FutureWarning: is_categorical_dtype is deprecated and will be removed in a future version. Use isinstance(dtype, CategoricalDtype) instead\n",
      "  if pd.api.types.is_categorical_dtype(vector):\n",
      "/Users/sp953694/Library/Python/3.9/lib/python/site-packages/seaborn/_oldcore.py:1498: FutureWarning: is_categorical_dtype is deprecated and will be removed in a future version. Use isinstance(dtype, CategoricalDtype) instead\n",
      "  if pd.api.types.is_categorical_dtype(vector):\n",
      "/Users/sp953694/Library/Python/3.9/lib/python/site-packages/seaborn/_oldcore.py:1498: FutureWarning: is_categorical_dtype is deprecated and will be removed in a future version. Use isinstance(dtype, CategoricalDtype) instead\n",
      "  if pd.api.types.is_categorical_dtype(vector):\n",
      "/Users/sp953694/Library/Python/3.9/lib/python/site-packages/seaborn/_oldcore.py:1498: FutureWarning: is_categorical_dtype is deprecated and will be removed in a future version. Use isinstance(dtype, CategoricalDtype) instead\n",
      "  if pd.api.types.is_categorical_dtype(vector):\n",
      "/Users/sp953694/Library/Python/3.9/lib/python/site-packages/seaborn/categorical.py:641: FutureWarning: The default of observed=False is deprecated and will be changed to True in a future version of pandas. Pass observed=False to retain current behavior or observed=True to adopt the future default and silence this warning.\n",
      "  grouped_vals = vals.groupby(grouper)\n",
      "/Users/sp953694/Library/Python/3.9/lib/python/site-packages/seaborn/categorical.py:641: FutureWarning: The default of observed=False is deprecated and will be changed to True in a future version of pandas. Pass observed=False to retain current behavior or observed=True to adopt the future default and silence this warning.\n",
      "  grouped_vals = vals.groupby(grouper)\n",
      "/Users/sp953694/Library/Python/3.9/lib/python/site-packages/seaborn/_oldcore.py:1498: FutureWarning: is_categorical_dtype is deprecated and will be removed in a future version. Use isinstance(dtype, CategoricalDtype) instead\n",
      "  if pd.api.types.is_categorical_dtype(vector):\n",
      "/Users/sp953694/Library/Python/3.9/lib/python/site-packages/seaborn/_oldcore.py:1498: FutureWarning: is_categorical_dtype is deprecated and will be removed in a future version. Use isinstance(dtype, CategoricalDtype) instead\n",
      "  if pd.api.types.is_categorical_dtype(vector):\n",
      "/Users/sp953694/Library/Python/3.9/lib/python/site-packages/seaborn/_oldcore.py:1498: FutureWarning: is_categorical_dtype is deprecated and will be removed in a future version. Use isinstance(dtype, CategoricalDtype) instead\n",
      "  if pd.api.types.is_categorical_dtype(vector):\n",
      "/Users/sp953694/Library/Python/3.9/lib/python/site-packages/seaborn/_oldcore.py:1498: FutureWarning: is_categorical_dtype is deprecated and will be removed in a future version. Use isinstance(dtype, CategoricalDtype) instead\n",
      "  if pd.api.types.is_categorical_dtype(vector):\n",
      "/Users/sp953694/Library/Python/3.9/lib/python/site-packages/seaborn/_oldcore.py:1498: FutureWarning: is_categorical_dtype is deprecated and will be removed in a future version. Use isinstance(dtype, CategoricalDtype) instead\n",
      "  if pd.api.types.is_categorical_dtype(vector):\n",
      "/Users/sp953694/Library/Python/3.9/lib/python/site-packages/seaborn/_oldcore.py:1498: FutureWarning: is_categorical_dtype is deprecated and will be removed in a future version. Use isinstance(dtype, CategoricalDtype) instead\n",
      "  if pd.api.types.is_categorical_dtype(vector):\n",
      "/Users/sp953694/Library/Python/3.9/lib/python/site-packages/seaborn/_oldcore.py:1498: FutureWarning: is_categorical_dtype is deprecated and will be removed in a future version. Use isinstance(dtype, CategoricalDtype) instead\n",
      "  if pd.api.types.is_categorical_dtype(vector):\n",
      "/Users/sp953694/Library/Python/3.9/lib/python/site-packages/seaborn/_oldcore.py:1498: FutureWarning: is_categorical_dtype is deprecated and will be removed in a future version. Use isinstance(dtype, CategoricalDtype) instead\n",
      "  if pd.api.types.is_categorical_dtype(vector):\n",
      "/Users/sp953694/Library/Python/3.9/lib/python/site-packages/seaborn/_oldcore.py:1498: FutureWarning: is_categorical_dtype is deprecated and will be removed in a future version. Use isinstance(dtype, CategoricalDtype) instead\n",
      "  if pd.api.types.is_categorical_dtype(vector):\n",
      "/Users/sp953694/Library/Python/3.9/lib/python/site-packages/seaborn/_oldcore.py:1498: FutureWarning: is_categorical_dtype is deprecated and will be removed in a future version. Use isinstance(dtype, CategoricalDtype) instead\n",
      "  if pd.api.types.is_categorical_dtype(vector):\n",
      "/Users/sp953694/Library/Python/3.9/lib/python/site-packages/seaborn/_oldcore.py:1498: FutureWarning: is_categorical_dtype is deprecated and will be removed in a future version. Use isinstance(dtype, CategoricalDtype) instead\n",
      "  if pd.api.types.is_categorical_dtype(vector):\n",
      "/Users/sp953694/Library/Python/3.9/lib/python/site-packages/seaborn/_oldcore.py:1498: FutureWarning: is_categorical_dtype is deprecated and will be removed in a future version. Use isinstance(dtype, CategoricalDtype) instead\n",
      "  if pd.api.types.is_categorical_dtype(vector):\n",
      "/Users/sp953694/Library/Python/3.9/lib/python/site-packages/seaborn/_oldcore.py:1498: FutureWarning: is_categorical_dtype is deprecated and will be removed in a future version. Use isinstance(dtype, CategoricalDtype) instead\n",
      "  if pd.api.types.is_categorical_dtype(vector):\n",
      "/Users/sp953694/Library/Python/3.9/lib/python/site-packages/seaborn/categorical.py:641: FutureWarning: The default of observed=False is deprecated and will be changed to True in a future version of pandas. Pass observed=False to retain current behavior or observed=True to adopt the future default and silence this warning.\n",
      "  grouped_vals = vals.groupby(grouper)\n",
      "/Users/sp953694/Library/Python/3.9/lib/python/site-packages/seaborn/categorical.py:641: FutureWarning: The default of observed=False is deprecated and will be changed to True in a future version of pandas. Pass observed=False to retain current behavior or observed=True to adopt the future default and silence this warning.\n",
      "  grouped_vals = vals.groupby(grouper)\n",
      "/Users/sp953694/Library/Python/3.9/lib/python/site-packages/seaborn/_oldcore.py:1498: FutureWarning: is_categorical_dtype is deprecated and will be removed in a future version. Use isinstance(dtype, CategoricalDtype) instead\n",
      "  if pd.api.types.is_categorical_dtype(vector):\n",
      "/Users/sp953694/Library/Python/3.9/lib/python/site-packages/seaborn/categorical.py:641: FutureWarning: The default of observed=False is deprecated and will be changed to True in a future version of pandas. Pass observed=False to retain current behavior or observed=True to adopt the future default and silence this warning.\n",
      "  grouped_vals = vals.groupby(grouper)\n"
     ]
    },
    {
     "data": {
      "text/plain": [
       "<Axes: xlabel='coffeehouse', ylabel='count'>"
      ]
     },
     "execution_count": 126,
     "metadata": {},
     "output_type": "execute_result"
    },
    {
     "data": {
      "image/png": "[encoded data removed]",
      "text/plain": [
       "<Figure size 2000x1000 with 9 Axes>"
      ]
     },
     "metadata": {},
     "output_type": "display_data"
    }
   ],
   "source": [
    "fig,ax=plt.subplots(3,3,figsize=(20,10))\n",
    "sns.countplot(x='weather',data=df1,hue='accept(y/n?)',ax=ax[0,0])\n",
    "sns.countplot(x='coupon',data=df1,hue='accept(y/n?)',ax=ax[0,1])\n",
    "sns.countplot(x='gender',data=df1,hue='accept(y/n?)',ax=ax[0,2])\n",
    "sns.countplot(x='age',data=df1,hue='accept(y/n?)',ax=ax[1,0])\n",
    "sns.countplot(x='maritalstatus',data=df1,hue='accept(y/n?)',ax=ax[1,1])\n",
    "sns.countplot(x='passanger',data=df1,hue='accept(y/n?)',ax=ax[1,2])\n",
    "sns.countplot(x='direction_same',data=df1,hue='accept(y/n?)',ax=ax[2,0])\n",
    "sns.countplot(x='bar',data=df1,hue='accept(y/n?)',ax=ax[2,1])\n",
    "sns.countplot(x='coffeehouse',data=df1,hue='accept(y/n?)',ax=ax[2,2])\n"
   ]
  },
  {
   "cell_type": "code",
   "execution_count": 127,
   "id": "a9aac388",
   "metadata": {},
   "outputs": [
    {
     "name": "stderr",
     "output_type": "stream",
     "text": [
      "/Users/sp953694/Library/Python/3.9/lib/python/site-packages/seaborn/_oldcore.py:1498: FutureWarning: is_categorical_dtype is deprecated and will be removed in a future version. Use isinstance(dtype, CategoricalDtype) instead\n",
      "  if pd.api.types.is_categorical_dtype(vector):\n",
      "/Users/sp953694/Library/Python/3.9/lib/python/site-packages/seaborn/categorical.py:641: FutureWarning: The default of observed=False is deprecated and will be changed to True in a future version of pandas. Pass observed=False to retain current behavior or observed=True to adopt the future default and silence this warning.\n",
      "  grouped_vals = vals.groupby(grouper)\n",
      "/Users/sp953694/Library/Python/3.9/lib/python/site-packages/seaborn/_oldcore.py:1498: FutureWarning: is_categorical_dtype is deprecated and will be removed in a future version. Use isinstance(dtype, CategoricalDtype) instead\n",
      "  if pd.api.types.is_categorical_dtype(vector):\n",
      "/Users/sp953694/Library/Python/3.9/lib/python/site-packages/seaborn/categorical.py:641: FutureWarning: The default of observed=False is deprecated and will be changed to True in a future version of pandas. Pass observed=False to retain current behavior or observed=True to adopt the future default and silence this warning.\n",
      "  grouped_vals = vals.groupby(grouper)\n",
      "/Users/sp953694/Library/Python/3.9/lib/python/site-packages/seaborn/_oldcore.py:1498: FutureWarning: is_categorical_dtype is deprecated and will be removed in a future version. Use isinstance(dtype, CategoricalDtype) instead\n",
      "  if pd.api.types.is_categorical_dtype(vector):\n",
      "/Users/sp953694/Library/Python/3.9/lib/python/site-packages/seaborn/_oldcore.py:1498: FutureWarning: is_categorical_dtype is deprecated and will be removed in a future version. Use isinstance(dtype, CategoricalDtype) instead\n",
      "  if pd.api.types.is_categorical_dtype(vector):\n",
      "/Users/sp953694/Library/Python/3.9/lib/python/site-packages/seaborn/_oldcore.py:1498: FutureWarning: is_categorical_dtype is deprecated and will be removed in a future version. Use isinstance(dtype, CategoricalDtype) instead\n",
      "  if pd.api.types.is_categorical_dtype(vector):\n",
      "/Users/sp953694/Library/Python/3.9/lib/python/site-packages/seaborn/_oldcore.py:1498: FutureWarning: is_categorical_dtype is deprecated and will be removed in a future version. Use isinstance(dtype, CategoricalDtype) instead\n",
      "  if pd.api.types.is_categorical_dtype(vector):\n",
      "/Users/sp953694/Library/Python/3.9/lib/python/site-packages/seaborn/_oldcore.py:1498: FutureWarning: is_categorical_dtype is deprecated and will be removed in a future version. Use isinstance(dtype, CategoricalDtype) instead\n",
      "  if pd.api.types.is_categorical_dtype(vector):\n",
      "/Users/sp953694/Library/Python/3.9/lib/python/site-packages/seaborn/_oldcore.py:1498: FutureWarning: is_categorical_dtype is deprecated and will be removed in a future version. Use isinstance(dtype, CategoricalDtype) instead\n",
      "  if pd.api.types.is_categorical_dtype(vector):\n",
      "/Users/sp953694/Library/Python/3.9/lib/python/site-packages/seaborn/_oldcore.py:1498: FutureWarning: is_categorical_dtype is deprecated and will be removed in a future version. Use isinstance(dtype, CategoricalDtype) instead\n",
      "  if pd.api.types.is_categorical_dtype(vector):\n",
      "/Users/sp953694/Library/Python/3.9/lib/python/site-packages/seaborn/_oldcore.py:1498: FutureWarning: is_categorical_dtype is deprecated and will be removed in a future version. Use isinstance(dtype, CategoricalDtype) instead\n",
      "  if pd.api.types.is_categorical_dtype(vector):\n",
      "/Users/sp953694/Library/Python/3.9/lib/python/site-packages/seaborn/_oldcore.py:1498: FutureWarning: is_categorical_dtype is deprecated and will be removed in a future version. Use isinstance(dtype, CategoricalDtype) instead\n",
      "  if pd.api.types.is_categorical_dtype(vector):\n",
      "/Users/sp953694/Library/Python/3.9/lib/python/site-packages/seaborn/categorical.py:641: FutureWarning: The default of observed=False is deprecated and will be changed to True in a future version of pandas. Pass observed=False to retain current behavior or observed=True to adopt the future default and silence this warning.\n",
      "  grouped_vals = vals.groupby(grouper)\n",
      "/Users/sp953694/Library/Python/3.9/lib/python/site-packages/seaborn/categorical.py:641: FutureWarning: The default of observed=False is deprecated and will be changed to True in a future version of pandas. Pass observed=False to retain current behavior or observed=True to adopt the future default and silence this warning.\n",
      "  grouped_vals = vals.groupby(grouper)\n",
      "/Users/sp953694/Library/Python/3.9/lib/python/site-packages/seaborn/_oldcore.py:1498: FutureWarning: is_categorical_dtype is deprecated and will be removed in a future version. Use isinstance(dtype, CategoricalDtype) instead\n",
      "  if pd.api.types.is_categorical_dtype(vector):\n",
      "/Users/sp953694/Library/Python/3.9/lib/python/site-packages/seaborn/categorical.py:641: FutureWarning: The default of observed=False is deprecated and will be changed to True in a future version of pandas. Pass observed=False to retain current behavior or observed=True to adopt the future default and silence this warning.\n",
      "  grouped_vals = vals.groupby(grouper)\n"
     ]
    },
    {
     "data": {
      "text/plain": [
       "<Axes: xlabel='carryaway', ylabel='count'>"
      ]
     },
     "execution_count": 127,
     "metadata": {},
     "output_type": "execute_result"
    },
    {
     "data": {
      "image/png": "[encoded data removed]",
      "text/plain": [
       "<Figure size 2000x1000 with 6 Axes>"
      ]
     },
     "metadata": {},
     "output_type": "display_data"
    }
   ],
   "source": [
    "fig,ax=plt.subplots(3,2,figsize=(20,10))\n",
    "sns.countplot(x='restaurantlessthan20',data=df1,hue='accept(y/n?)',ax=ax[0,0])\n",
    "sns.countplot(x='restaurant20to50',data=df1,hue='accept(y/n?)',ax=ax[0,1])\n",
    "sns.countplot(x='tocoupon_geq15min',data=df1,hue='accept(y/n?)',ax=ax[1,0])\n",
    "sns.countplot(x='tocoupon_geq25min',data=df1,hue='accept(y/n?)',ax=ax[1,1])\n",
    "sns.countplot(x='income',data=df1,hue='accept(y/n?)',ax=ax[2,0])\n",
    "sns.countplot(x='carryaway',data=df1,hue='accept(y/n?)',ax=ax[2,1])"
   ]
  },
  {
   "cell_type": "markdown",
   "id": "760f3fb1",
   "metadata": {},
   "source": [
    "As the no.of males and females are nearly equal, females are accepting the coupons more compared to males."
   ]
  },
  {
   "cell_type": "code",
   "execution_count": 128,
   "id": "669a9c67",
   "metadata": {},
   "outputs": [
    {
     "data": {
      "text/plain": [
       "array(['Sunny', 'Rainy', 'Snowy'], dtype=object)"
      ]
     },
     "execution_count": 128,
     "metadata": {},
     "output_type": "execute_result"
    }
   ],
   "source": [
    "df1['weather'].unique()"
   ]
  },
  {
   "cell_type": "code",
   "execution_count": 129,
   "id": "d800b30f",
   "metadata": {},
   "outputs": [
    {
     "name": "stdout",
     "output_type": "stream",
     "text": [
      "sunny: 41.3882863340564\n",
      "Rainy: 52.753108348134994\n",
      "Snowy: 54.831288343558285\n"
     ]
    }
   ],
   "source": [
    "print(\"sunny:\",(len(df1[(df1[\"weather\"]==\"Sunny\") & (df1[\"accept(y/n?)\"]==\"1\")])/(len(df1[df1[\"weather\"]==\"Sunny\"])))*100)\n",
    "print(\"Rainy:\",(len(df1[(df1[\"weather\"]==\"Rainy\") & (df1[\"accept(y/n?)\"]==\"1\")])/(len(df1[df1[\"weather\"]==\"Rainy\"])))*100)\n",
    "print(\"Snowy:\",(len(df1[(df1[\"weather\"]==\"Snowy\") & (df1[\"accept(y/n?)\"]==\"1\")])/(len(df1[df1[\"weather\"]==\"Snowy\"])))*100)"
   ]
  },
  {
   "cell_type": "markdown",
   "id": "061f0a6c",
   "metadata": {},
   "source": [
    "If the weather is Snowy then there is a 54% chance to accept the coupon"
   ]
  },
  {
   "cell_type": "code",
   "execution_count": 130,
   "id": "68110a93",
   "metadata": {},
   "outputs": [
    {
     "data": {
      "text/plain": [
       "array(['Restaurant(<20)', 'Coffee House', 'Carry out & Take away', 'Bar',\n",
       "       'Restaurant(20-50)'], dtype=object)"
      ]
     },
     "execution_count": 130,
     "metadata": {},
     "output_type": "execute_result"
    }
   ],
   "source": [
    "df1['coupon'].unique()"
   ]
  },
  {
   "cell_type": "code",
   "execution_count": 131,
   "id": "9dc5020c",
   "metadata": {},
   "outputs": [
    {
     "name": "stdout",
     "output_type": "stream",
     "text": [
      "C: 50.41103155661628\n",
      "B: 58.7170201758924\n",
      "R2050: 55.84905660377358\n"
     ]
    }
   ],
   "source": [
    "print(\"C:\",(len(df1[(df1[\"coupon\"]==\"Coffee House\") & (df1[\"accept(y/n?)\"]==\"1\")])/(len(df1[df1[\"coupon\"]==\"Coffee House\"])))*100)\n",
    "print(\"B:\",(len(df1[(df1[\"coupon\"]==\"Bar\") & (df1[\"accept(y/n?)\"]==\"1\")])/(len(df1[df1[\"coupon\"]==\"Bar\"])))*100)\n",
    "print(\"R2050:\",(len(df1[(df1[\"coupon\"]==\"Restaurant(20-50)\") & (df1[\"accept(y/n?)\"]==\"1\")])/(len(df1[df1[\"coupon\"]==\"Restaurant(20-50)\"])))*100)"
   ]
  },
  {
   "cell_type": "markdown",
   "id": "eb382e35",
   "metadata": {},
   "source": [
    "If the coupon is Bar then there is a 58% chance to accept the coupon"
   ]
  },
  {
   "cell_type": "code",
   "execution_count": 132,
   "id": "f48370b0",
   "metadata": {},
   "outputs": [
    {
     "name": "stdout",
     "output_type": "stream",
     "text": [
      "FC: 51.54162384378211\n",
      "FB: 65.53446553446554\n",
      "FR25: 56.948640483383684\n",
      "FR2: 31.620553359683797\n",
      "FCT: 29.2616226071103\n"
     ]
    }
   ],
   "source": [
    "print(\"FC:\",(len(df1[(df1[\"coupon\"]==\"Coffee House\") & (df1[\"accept(y/n?)\"]==\"1\") & (df1[\"gender\"]==\"Female\")])/(len(df1[(df1[\"coupon\"]==\"Coffee House\") & (df1[\"gender\"]==\"Female\")])))*100)\n",
    "print(\"FB:\",(len(df1[(df1[\"coupon\"]==\"Bar\") & (df1[\"accept(y/n?)\"]==\"1\") & (df1[\"gender\"]==\"Female\")])/(len(df1[(df1[\"coupon\"]==\"Bar\") & (df1[\"gender\"]==\"Female\")])))*100)\n",
    "print(\"FR25:\",(len(df1[(df1[\"coupon\"]==\"Restaurant(20-50)\") & (df1[\"accept(y/n?)\"]==\"1\") & (df1[\"gender\"]==\"Female\")])/(len(df1[(df1[\"coupon\"]==\"Restaurant(20-50)\") & (df1[\"gender\"]==\"Female\")])))*100)\n",
    "print(\"FR2:\",(len(df1[(df1[\"coupon\"]==\"Restaurant(<20)\") & (df1[\"accept(y/n?)\"]==\"1\") & (df1[\"gender\"]==\"Female\")])/(len(df1[(df1[\"coupon\"]==\"Restaurant(<20)\") & (df1[\"gender\"]==\"Female\")])))*100)\n",
    "print(\"FCT:\",(len(df1[(df1[\"coupon\"]==\"Carry out & Take away\") & (df1[\"accept(y/n?)\"]==\"1\") & (df1[\"gender\"]==\"Female\")])/(len(df1[(df1[\"coupon\"]==\"Carry out & Take away\") & (df1[\"gender\"]==\"Female\")])))*100)\n"
   ]
  },
  {
   "cell_type": "markdown",
   "id": "60ed0da3",
   "metadata": {},
   "source": [
    "Females are accepting more Bar coupons"
   ]
  },
  {
   "cell_type": "code",
   "execution_count": 133,
   "id": "f4df56a0",
   "metadata": {},
   "outputs": [
    {
     "name": "stdout",
     "output_type": "stream",
     "text": [
      "MC: 49.205479452054796\n",
      "MB: 51.39484978540773\n",
      "MR25: 54.75113122171946\n",
      "MR2: 29.51219512195122\n",
      "MCT: 25.75315840621963\n"
     ]
    }
   ],
   "source": [
    "print(\"MC:\",(len(df1[(df1[\"coupon\"]==\"Coffee House\") & (df1[\"accept(y/n?)\"]==\"1\") & (df1[\"gender\"]==\"Male\")])/(len(df1[(df1[\"coupon\"]==\"Coffee House\") & (df1[\"gender\"]==\"Male\")])))*100)\n",
    "print(\"MB:\",(len(df1[(df1[\"coupon\"]==\"Bar\") & (df1[\"accept(y/n?)\"]==\"1\") & (df1[\"gender\"]==\"Male\")])/(len(df1[(df1[\"coupon\"]==\"Bar\") & (df1[\"gender\"]==\"Male\")])))*100)\n",
    "print(\"MR25:\",(len(df1[(df1[\"coupon\"]==\"Restaurant(20-50)\") & (df1[\"accept(y/n?)\"]==\"1\") & (df1[\"gender\"]==\"Male\")])/(len(df1[(df1[\"coupon\"]==\"Restaurant(20-50)\") & (df1[\"gender\"]==\"Male\")])))*100)\n",
    "print(\"MR2:\",(len(df1[(df1[\"coupon\"]==\"Restaurant(<20)\") & (df1[\"accept(y/n?)\"]==\"1\") & (df1[\"gender\"]==\"Male\")])/(len(df1[(df1[\"coupon\"]==\"Restaurant(<20)\") & (df1[\"gender\"]==\"Male\")])))*100)\n",
    "print(\"MCT:\",(len(df1[(df1[\"coupon\"]==\"Carry out & Take away\") & (df1[\"accept(y/n?)\"]==\"1\") & (df1[\"gender\"]==\"Male\")])/(len(df1[(df1[\"coupon\"]==\"Carry out & Take away\") & (df1[\"gender\"]==\"Male\")])))*100)\n"
   ]
  },
  {
   "cell_type": "markdown",
   "id": "bd722c0c",
   "metadata": {},
   "source": [
    "Males are accepting more Restaurant(20-50)coupon "
   ]
  },
  {
   "cell_type": "code",
   "execution_count": 134,
   "id": "d210f195",
   "metadata": {},
   "outputs": [
    {
     "data": {
      "text/plain": [
       "['between21-30', 'between41-50', 'between31-40', '50plus', 'below21']\n",
       "Categories (5, object): ['between21-30', 'between31-40', 'between41-50', '50plus', 'below21']"
      ]
     },
     "execution_count": 134,
     "metadata": {},
     "output_type": "execute_result"
    }
   ],
   "source": [
    "df1.age.unique()"
   ]
  },
  {
   "cell_type": "code",
   "execution_count": 135,
   "id": "eb1d1cab",
   "metadata": {},
   "outputs": [
    {
     "name": "stdout",
     "output_type": "stream",
     "text": [
      "FC: 51.724137931034484\n",
      "FB: 56.75675675675676\n",
      "FR25: 42.857142857142854\n",
      "FR2: 23.404255319148938\n",
      "FCT: 30.952380952380953\n"
     ]
    }
   ],
   "source": [
    "print(\"FC:\",(len(df1[(df1[\"age\"]==\"below21\") & (df1[\"coupon\"]==\"Coffee House\") & (df1[\"accept(y/n?)\"]==\"1\") & (df1[\"gender\"]==\"Female\")])/(len(df1[(df1[\"age\"]==\"below21\") & (df1[\"coupon\"]==\"Coffee House\") & (df1[\"gender\"]==\"Female\")])))*100)\n",
    "print(\"FB:\",(len(df1[(df1[\"age\"]==\"below21\") & (df1[\"coupon\"]==\"Bar\") & (df1[\"accept(y/n?)\"]==\"1\") & (df1[\"gender\"]==\"Female\")])/(len(df1[(df1[\"age\"]==\"below21\") & (df1[\"coupon\"]==\"Bar\") & (df1[\"gender\"]==\"Female\")])))*100)\n",
    "print(\"FR25:\",(len(df1[(df1[\"age\"]==\"below21\") & (df1[\"coupon\"]==\"Restaurant(20-50)\") & (df1[\"accept(y/n?)\"]==\"1\") & (df1[\"gender\"]==\"Female\")])/(len(df1[(df1[\"age\"]==\"below21\") & (df1[\"coupon\"]==\"Restaurant(20-50)\") & (df1[\"gender\"]==\"Female\")])))*100)\n",
    "print(\"FR2:\",(len(df1[(df1[\"age\"]==\"below21\") & (df1[\"coupon\"]==\"Restaurant(<20)\") & (df1[\"accept(y/n?)\"]==\"1\") & (df1[\"gender\"]==\"Female\")])/(len(df1[(df1[\"age\"]==\"below21\") & (df1[\"coupon\"]==\"Restaurant(<20)\") & (df1[\"gender\"]==\"Female\")])))*100)\n",
    "print(\"FCT:\",(len(df1[(df1[\"age\"]==\"below21\") & (df1[\"coupon\"]==\"Carry out & Take away\") & (df1[\"accept(y/n?)\"]==\"1\") & (df1[\"gender\"]==\"Female\")])/(len(df1[(df1[\"age\"]==\"below21\") & (df1[\"coupon\"]==\"Carry out & Take away\") & (df1[\"gender\"]==\"Female\")])))*100)\n"
   ]
  },
  {
   "cell_type": "markdown",
   "id": "19f159f4",
   "metadata": {},
   "source": [
    "Females with age above20 are accepting more Bar coupons and next to them Restaurant(20-50) coupon and\n",
    "Females with age below20 are accepting more Bar coupons and next to them Coffee House coupon"
   ]
  },
  {
   "cell_type": "code",
   "execution_count": 136,
   "id": "2789f7c4",
   "metadata": {},
   "outputs": [
    {
     "name": "stdout",
     "output_type": "stream",
     "text": [
      "MC: 17.77777777777778\n",
      "MB: 59.09090909090909\n",
      "MR25: 66.66666666666666\n",
      "MR2: 29.411764705882355\n",
      "MCT: 32.142857142857146\n"
     ]
    }
   ],
   "source": [
    "print(\"MC:\",(len(df1[(df1[\"age\"]==\"below21\") & (df1[\"coupon\"]==\"Coffee House\") & (df1[\"accept(y/n?)\"]==\"1\") & (df1[\"gender\"]==\"Male\")])/(len(df1[(df1[\"age\"]==\"below21\") & (df1[\"coupon\"]==\"Coffee House\") & (df1[\"gender\"]==\"Male\")])))*100)\n",
    "print(\"MB:\",(len(df1[(df1[\"age\"]==\"below21\") & (df1[\"coupon\"]==\"Bar\") & (df1[\"accept(y/n?)\"]==\"1\") & (df1[\"gender\"]==\"Male\")])/(len(df1[(df1[\"age\"]==\"below21\") & (df1[\"coupon\"]==\"Bar\") & (df1[\"gender\"]==\"Male\")])))*100)\n",
    "print(\"MR25:\",(len(df1[(df1[\"age\"]==\"below21\") & (df1[\"coupon\"]==\"Restaurant(20-50)\") & (df1[\"accept(y/n?)\"]==\"1\") & (df1[\"gender\"]==\"Male\")])/(len(df1[(df1[\"age\"]==\"below21\") & (df1[\"coupon\"]==\"Restaurant(20-50)\") & (df1[\"gender\"]==\"Male\")])))*100)\n",
    "print(\"MR2:\",(len(df1[(df1[\"age\"]==\"below21\") & (df1[\"coupon\"]==\"Restaurant(<20)\") & (df1[\"accept(y/n?)\"]==\"1\") & (df1[\"gender\"]==\"Male\")])/(len(df1[(df1[\"age\"]==\"below21\") & (df1[\"coupon\"]==\"Restaurant(<20)\") & (df1[\"gender\"]==\"Male\")])))*100)\n",
    "print(\"MCT:\",(len(df1[(df1[\"age\"]==\"below21\") & (df1[\"coupon\"]==\"Carry out & Take away\") & (df1[\"accept(y/n?)\"]==\"1\") & (df1[\"gender\"]==\"Male\")])/(len(df1[(df1[\"age\"]==\"below21\") & (df1[\"coupon\"]==\"Carry out & Take away\") & (df1[\"gender\"]==\"Male\")])))*100)\n"
   ]
  },
  {
   "cell_type": "markdown",
   "id": "b4d52044",
   "metadata": {},
   "source": [
    "Males of all age categories accepting more Restaurant(20-50) coupons and next to them Bar coupons "
   ]
  },
  {
   "cell_type": "code",
   "execution_count": 137,
   "id": "be667909",
   "metadata": {},
   "outputs": [
    {
     "name": "stdout",
     "output_type": "stream",
     "text": [
      "15min: 4994\n",
      "25min: 10311\n"
     ]
    }
   ],
   "source": [
    "print(\"15min:\",(len(df1[(df1[\"tocoupon_geq15min\"]==\"1\")])))\n",
    "print(\"25min:\",(len(df1[(df1[\"tocoupon_geq25min\"]==\"1\")])))"
   ]
  },
  {
   "cell_type": "code",
   "execution_count": 138,
   "id": "15dcac46",
   "metadata": {},
   "outputs": [
    {
     "name": "stdout",
     "output_type": "stream",
     "text": [
      "15min: 4994\n"
     ]
    }
   ],
   "source": [
    "print(\"15min:\",(len(df1[(df1[\"tocoupon_geq15min\"]==\"1\") & (df1[\"tocoupon_geq25min\"]==\"1\")])))"
   ]
  },
  {
   "cell_type": "code",
   "execution_count": 139,
   "id": "1512d0cb",
   "metadata": {},
   "outputs": [
    {
     "name": "stdout",
     "output_type": "stream",
     "text": [
      "15min: 42.86695278969957\n",
      "25min: 88.50643776824035\n"
     ]
    }
   ],
   "source": [
    "print(\"15min:\",(len(df1[(df1[\"tocoupon_geq15min\"]==\"1\")])/(len(df1['tocoupon_geq15min'])))*100)\n",
    "print(\"25min:\",(len(df1[(df1[\"tocoupon_geq25min\"]==\"1\")])/(len(df1['tocoupon_geq25min'])))*100)"
   ]
  },
  {
   "cell_type": "markdown",
   "id": "c35e5fca",
   "metadata": {},
   "source": [
    "for most of the people to reach rest/cafe/bar it's taking >25min. "
   ]
  },
  {
   "cell_type": "markdown",
   "id": "031e1f83",
   "metadata": {},
   "source": [
    "# Data Preprocessing "
   ]
  },
  {
   "cell_type": "markdown",
   "id": "dd318828",
   "metadata": {},
   "source": [
    "### Handling outliers"
   ]
  },
  {
   "cell_type": "markdown",
   "id": "ca7e75ab",
   "metadata": {},
   "source": [
    "In the dataset there are no integer features, all are categorical features. so there is no need for analysing outliers."
   ]
  },
  {
   "cell_type": "markdown",
   "id": "485e7106",
   "metadata": {},
   "source": [
    "### Splitting the dataset"
   ]
  },
  {
   "cell_type": "code",
   "execution_count": 140,
   "id": "33a61e7d",
   "metadata": {},
   "outputs": [],
   "source": [
    "df2=df1.copy"
   ]
  },
  {
   "cell_type": "code",
   "execution_count": 141,
   "id": "1650515a",
   "metadata": {},
   "outputs": [],
   "source": [
    "x=df1.drop(columns=['accept(y/n?)'])\n",
    "y=df1['accept(y/n?)']"
   ]
  },
  {
   "cell_type": "code",
   "execution_count": 142,
   "id": "184a0b15",
   "metadata": {},
   "outputs": [],
   "source": [
    "from sklearn.model_selection import train_test_split\n",
    "x_train, x_test, y_train, y_test = train_test_split(x,y,test_size =0.2)"
   ]
  },
  {
   "cell_type": "code",
   "execution_count": 143,
   "id": "03efb3fd",
   "metadata": {},
   "outputs": [
    {
     "name": "stdout",
     "output_type": "stream",
     "text": [
      "(11650, 20)\n",
      "(9320, 19)\n",
      "(2330, 19)\n",
      "(9320,)\n",
      "(2330,)\n"
     ]
    }
   ],
   "source": [
    "print(df1.shape)\n",
    "print(x_train.shape)\n",
    "print(x_test.shape)\n",
    "print(y_train.shape)\n",
    "print(y_test.shape)"
   ]
  },
  {
   "cell_type": "markdown",
   "id": "00d76e47",
   "metadata": {},
   "source": [
    "## Encoding"
   ]
  },
  {
   "cell_type": "code",
   "execution_count": 144,
   "id": "7cb47343",
   "metadata": {},
   "outputs": [],
   "source": [
    "from sklearn.compose import ColumnTransformer"
   ]
  },
  {
   "cell_type": "code",
   "execution_count": 145,
   "id": "79f94d0e",
   "metadata": {},
   "outputs": [
    {
     "data": {
      "text/plain": [
       "Index(['passanger', 'weather', 'coupon', 'expiration', 'gender', 'age',\n",
       "       'maritalstatus', 'has_children', 'education', 'occupation', 'income',\n",
       "       'bar', 'coffeehouse', 'carryaway', 'restaurantlessthan20',\n",
       "       'restaurant20to50', 'tocoupon_geq15min', 'tocoupon_geq25min',\n",
       "       'direction_same'],\n",
       "      dtype='object')"
      ]
     },
     "execution_count": 145,
     "metadata": {},
     "output_type": "execute_result"
    }
   ],
   "source": [
    "x_train.columns"
   ]
  },
  {
   "cell_type": "code",
   "execution_count": 146,
   "id": "d7899d14",
   "metadata": {},
   "outputs": [
    {
     "name": "stdout",
     "output_type": "stream",
     "text": [
      "<class 'pandas.core.frame.DataFrame'>\n",
      "Index: 11650 entries, 0 to 12683\n",
      "Data columns (total 20 columns):\n",
      " #   Column                Non-Null Count  Dtype   \n",
      "---  ------                --------------  -----   \n",
      " 0   passanger             11650 non-null  object  \n",
      " 1   weather               11650 non-null  object  \n",
      " 2   coupon                11650 non-null  object  \n",
      " 3   expiration            11650 non-null  object  \n",
      " 4   gender                11650 non-null  object  \n",
      " 5   age                   11650 non-null  category\n",
      " 6   maritalstatus         11650 non-null  object  \n",
      " 7   has_children          11650 non-null  object  \n",
      " 8   education             11650 non-null  category\n",
      " 9   occupation            11650 non-null  object  \n",
      " 10  income                11650 non-null  category\n",
      " 11  bar                   11650 non-null  category\n",
      " 12  coffeehouse           11650 non-null  category\n",
      " 13  carryaway             11650 non-null  category\n",
      " 14  restaurantlessthan20  11650 non-null  category\n",
      " 15  restaurant20to50      11650 non-null  category\n",
      " 16  tocoupon_geq15min     11650 non-null  object  \n",
      " 17  tocoupon_geq25min     11650 non-null  object  \n",
      " 18  direction_same        11650 non-null  object  \n",
      " 19  accept(y/n?)          11650 non-null  object  \n",
      "dtypes: category(8), object(12)\n",
      "memory usage: 1.2+ MB\n"
     ]
    }
   ],
   "source": [
    "df1.info()"
   ]
  },
  {
   "cell_type": "code",
   "execution_count": 147,
   "id": "3cc5b4ce",
   "metadata": {},
   "outputs": [],
   "source": [
    "from sklearn.preprocessing import OneHotEncoder\n",
    "from sklearn.preprocessing import OrdinalEncoder"
   ]
  },
  {
   "cell_type": "code",
   "execution_count": 148,
   "id": "de1220c8",
   "metadata": {},
   "outputs": [
    {
     "data": {
      "text/plain": [
       "(9320, 9)"
      ]
     },
     "execution_count": 148,
     "metadata": {},
     "output_type": "execute_result"
    }
   ],
   "source": [
    "# Ordinalencoding \n",
    "oe = OrdinalEncoder()\n",
    "x_train_ord = oe.fit_transform(x_train[['expiration','age','education','income','bar','coffeehouse','carryaway','restaurantlessthan20','restaurant20to50']])\n",
    "\n",
    "# also the test data\n",
    "x_test_ord = oe.fit_transform(x_test[['expiration','age','education','income','bar','coffeehouse','carryaway','restaurantlessthan20','restaurant20to50']])\n",
    "\n",
    "x_train_ord.shape"
   ]
  },
  {
   "cell_type": "code",
   "execution_count": 149,
   "id": "cae9f200",
   "metadata": {},
   "outputs": [
    {
     "name": "stderr",
     "output_type": "stream",
     "text": [
      "/Users/sp953694/Library/Python/3.9/lib/python/site-packages/sklearn/preprocessing/_encoders.py:972: FutureWarning: `sparse` was renamed to `sparse_output` in version 1.2 and will be removed in 1.4. `sparse_output` is ignored unless you leave `sparse` to its default value.\n",
      "  warnings.warn(\n",
      "/Users/sp953694/Library/Python/3.9/lib/python/site-packages/sklearn/preprocessing/_encoders.py:972: FutureWarning: `sparse` was renamed to `sparse_output` in version 1.2 and will be removed in 1.4. `sparse_output` is ignored unless you leave `sparse` to its default value.\n",
      "  warnings.warn(\n"
     ]
    },
    {
     "data": {
      "text/plain": [
       "(9320, 28)"
      ]
     },
     "execution_count": 149,
     "metadata": {},
     "output_type": "execute_result"
    }
   ],
   "source": [
    "# OneHotEncoding \n",
    "ohe = OneHotEncoder(drop='first',sparse=False)\n",
    "x_train_nom = ohe.fit_transform(x_train[['passanger','weather','coupon','gender','maritalstatus','has_children','occupation','tocoupon_geq15min','tocoupon_geq25min','direction_same']])\n",
    "\n",
    "# also the test data\n",
    "x_test_nom = ohe.fit_transform(x_test[['passanger','weather','coupon','gender','maritalstatus','has_children','occupation','tocoupon_geq15min','tocoupon_geq25min','direction_same']])\n",
    "\n",
    "x_train_nom.shape"
   ]
  },
  {
   "cell_type": "code",
   "execution_count": 150,
   "id": "7550fff2",
   "metadata": {},
   "outputs": [
    {
     "data": {
      "text/plain": [
       "(9320, 37)"
      ]
     },
     "execution_count": 150,
     "metadata": {},
     "output_type": "execute_result"
    }
   ],
   "source": [
    "x_train_transformed = np.concatenate((x_train_ord,x_train_nom),axis=1)\n",
    "# also the test data\n",
    "x_test_transformed = np.concatenate((x_test_ord,x_test_nom),axis=1)\n",
    "\n",
    "x_train_transformed.shape"
   ]
  },
  {
   "cell_type": "code",
   "execution_count": 151,
   "id": "6ea076b5",
   "metadata": {},
   "outputs": [],
   "source": [
    "# label encoding\n",
    "from sklearn.preprocessing import LabelEncoder\n",
    "le = LabelEncoder()"
   ]
  },
  {
   "cell_type": "code",
   "execution_count": 152,
   "id": "d9916caf",
   "metadata": {},
   "outputs": [
    {
     "data": {
      "text/html": [
       "<style>#sk-container-id-2 {color: black;}#sk-container-id-2 pre{padding: 0;}#sk-container-id-2 div.sk-toggleable {background-color: white;}#sk-container-id-2 label.sk-toggleable__label {cursor: pointer;display: block;width: 100%;margin-bottom: 0;padding: 0.3em;box-sizing: border-box;text-align: center;}#sk-container-id-2 label.sk-toggleable__label-arrow:before {content: \"▸\";float: left;margin-right: 0.25em;color: #696969;}#sk-container-id-2 label.sk-toggleable__label-arrow:hover:before {color: black;}#sk-container-id-2 div.sk-estimator:hover label.sk-toggleable__label-arrow:before {color: black;}#sk-container-id-2 div.sk-toggleable__content {max-height: 0;max-width: 0;overflow: hidden;text-align: left;background-color: #f0f8ff;}#sk-container-id-2 div.sk-toggleable__content pre {margin: 0.2em;color: black;border-radius: 0.25em;background-color: #f0f8ff;}#sk-container-id-2 input.sk-toggleable__control:checked~div.sk-toggleable__content {max-height: 200px;max-width: 100%;overflow: auto;}#sk-container-id-2 input.sk-toggleable__control:checked~label.sk-toggleable__label-arrow:before {content: \"▾\";}#sk-container-id-2 div.sk-estimator input.sk-toggleable__control:checked~label.sk-toggleable__label {background-color: #d4ebff;}#sk-container-id-2 div.sk-label input.sk-toggleable__control:checked~label.sk-toggleable__label {background-color: #d4ebff;}#sk-container-id-2 input.sk-hidden--visually {border: 0;clip: rect(1px 1px 1px 1px);clip: rect(1px, 1px, 1px, 1px);height: 1px;margin: -1px;overflow: hidden;padding: 0;position: absolute;width: 1px;}#sk-container-id-2 div.sk-estimator {font-family: monospace;background-color: #f0f8ff;border: 1px dotted black;border-radius: 0.25em;box-sizing: border-box;margin-bottom: 0.5em;}#sk-container-id-2 div.sk-estimator:hover {background-color: #d4ebff;}#sk-container-id-2 div.sk-parallel-item::after {content: \"\";width: 100%;border-bottom: 1px solid gray;flex-grow: 1;}#sk-container-id-2 div.sk-label:hover label.sk-toggleable__label {background-color: #d4ebff;}#sk-container-id-2 div.sk-serial::before {content: \"\";position: absolute;border-left: 1px solid gray;box-sizing: border-box;top: 0;bottom: 0;left: 50%;z-index: 0;}#sk-container-id-2 div.sk-serial {display: flex;flex-direction: column;align-items: center;background-color: white;padding-right: 0.2em;padding-left: 0.2em;position: relative;}#sk-container-id-2 div.sk-item {position: relative;z-index: 1;}#sk-container-id-2 div.sk-parallel {display: flex;align-items: stretch;justify-content: center;background-color: white;position: relative;}#sk-container-id-2 div.sk-item::before, #sk-container-id-2 div.sk-parallel-item::before {content: \"\";position: absolute;border-left: 1px solid gray;box-sizing: border-box;top: 0;bottom: 0;left: 50%;z-index: -1;}#sk-container-id-2 div.sk-parallel-item {display: flex;flex-direction: column;z-index: 1;position: relative;background-color: white;}#sk-container-id-2 div.sk-parallel-item:first-child::after {align-self: flex-end;width: 50%;}#sk-container-id-2 div.sk-parallel-item:last-child::after {align-self: flex-start;width: 50%;}#sk-container-id-2 div.sk-parallel-item:only-child::after {width: 0;}#sk-container-id-2 div.sk-dashed-wrapped {border: 1px dashed gray;margin: 0 0.4em 0.5em 0.4em;box-sizing: border-box;padding-bottom: 0.4em;background-color: white;}#sk-container-id-2 div.sk-label label {font-family: monospace;font-weight: bold;display: inline-block;line-height: 1.2em;}#sk-container-id-2 div.sk-label-container {text-align: center;}#sk-container-id-2 div.sk-container {/* jupyter's `normalize.less` sets `[hidden] { display: none; }` but bootstrap.min.css set `[hidden] { display: none !important; }` so we also need the `!important` here to be able to override the default hidden behavior on the sphinx rendered scikit-learn.org. See: https://github.com/scikit-learn/scikit-learn/issues/21755 */display: inline-block !important;position: relative;}#sk-container-id-2 div.sk-text-repr-fallback {display: none;}</style><div id=\"sk-container-id-2\" class=\"sk-top-container\"><div class=\"sk-text-repr-fallback\"><pre>LabelEncoder()</pre><b>In a Jupyter environment, please rerun this cell to show the HTML representation or trust the notebook. <br />On GitHub, the HTML representation is unable to render, please try loading this page with nbviewer.org.</b></div><div class=\"sk-container\" hidden><div class=\"sk-item\"><div class=\"sk-estimator sk-toggleable\"><input class=\"sk-toggleable__control sk-hidden--visually\" id=\"sk-estimator-id-2\" type=\"checkbox\" checked><label for=\"sk-estimator-id-2\" class=\"sk-toggleable__label sk-toggleable__label-arrow\">LabelEncoder</label><div class=\"sk-toggleable__content\"><pre>LabelEncoder()</pre></div></div></div></div></div>"
      ],
      "text/plain": [
       "LabelEncoder()"
      ]
     },
     "execution_count": 152,
     "metadata": {},
     "output_type": "execute_result"
    }
   ],
   "source": [
    "le.fit(y_train)"
   ]
  },
  {
   "cell_type": "code",
   "execution_count": 153,
   "id": "be9f3665",
   "metadata": {},
   "outputs": [
    {
     "data": {
      "text/plain": [
       "array(['0', '1'], dtype=object)"
      ]
     },
     "execution_count": 153,
     "metadata": {},
     "output_type": "execute_result"
    }
   ],
   "source": [
    "le.classes_"
   ]
  },
  {
   "cell_type": "code",
   "execution_count": 154,
   "id": "5ddb0e65",
   "metadata": {},
   "outputs": [],
   "source": [
    "y_train = le.transform(y_train)\n",
    "y_test = le.transform(y_test)"
   ]
  },
  {
   "cell_type": "code",
   "execution_count": 155,
   "id": "aad23501",
   "metadata": {},
   "outputs": [
    {
     "data": {
      "text/plain": [
       "(9320,)"
      ]
     },
     "execution_count": 155,
     "metadata": {},
     "output_type": "execute_result"
    }
   ],
   "source": [
    "y_train.shape"
   ]
  },
  {
   "cell_type": "markdown",
   "id": "ea4d77d6",
   "metadata": {},
   "source": [
    "# Machine Learning Models"
   ]
  },
  {
   "cell_type": "markdown",
   "id": "025eb3b1",
   "metadata": {},
   "source": [
    "## DecisionTree"
   ]
  },
  {
   "cell_type": "code",
   "execution_count": 156,
   "id": "fe469501",
   "metadata": {},
   "outputs": [],
   "source": [
    "from sklearn.tree import DecisionTreeClassifier\n",
    "from sklearn.metrics import confusion_matrix\n",
    "from sklearn.metrics import accuracy_score\n",
    "from sklearn.metrics import roc_curve, auc"
   ]
  },
  {
   "cell_type": "code",
   "execution_count": 157,
   "id": "c463efe5",
   "metadata": {},
   "outputs": [],
   "source": [
    "import time\n",
    "import random\n",
    "from sklearn.model_selection import KFold, cross_val_score, GridSearchCV"
   ]
  },
  {
   "cell_type": "code",
   "execution_count": 158,
   "id": "0bc16679",
   "metadata": {},
   "outputs": [
    {
     "name": "stdout",
     "output_type": "stream",
     "text": [
      "Training score:  0.7137339055793992\n",
      "Testing score:  0.6742489270386266\n"
     ]
    }
   ],
   "source": [
    "# DecisionTree\n",
    "model_dt = DecisionTreeClassifier(random_state=1, max_depth=8,min_samples_split=2,min_samples_leaf=6,criterion='entropy')\n",
    "model_dt.fit(x_train_transformed, y_train)\n",
    "model_dt_score_train = model_dt.score(x_train_transformed, y_train)\n",
    "print(\"Training score: \",model_dt_score_train)\n",
    "model_dt_score_test = model_dt.score(x_test_transformed, y_test)\n",
    "print(\"Testing score: \",model_dt_score_test)\n"
   ]
  },
  {
   "cell_type": "code",
   "execution_count": 159,
   "id": "fed28c51",
   "metadata": {},
   "outputs": [
    {
     "name": "stdout",
     "output_type": "stream",
     "text": [
      "Best Parameters using grid search: \n",
      " {'criterion': 'entropy', 'max_depth': 7, 'min_samples_leaf': 9, 'min_samples_split': 2}\n",
      "Time taken in grid search:  6.76\n"
     ]
    },
    {
     "name": "stderr",
     "output_type": "stream",
     "text": [
      "/Users/sp953694/Library/Python/3.9/lib/python/site-packages/sklearn/model_selection/_validation.py:425: FitFailedWarning: \n",
      "400 fits failed out of a total of 1200.\n",
      "The score on these train-test partitions for these parameters will be set to nan.\n",
      "If these failures are not expected, you can try to debug them by setting error_score='raise'.\n",
      "\n",
      "Below are more details about the failures:\n",
      "--------------------------------------------------------------------------------\n",
      "400 fits failed with the following error:\n",
      "Traceback (most recent call last):\n",
      "  File \"/Users/sp953694/Library/Python/3.9/lib/python/site-packages/sklearn/model_selection/_validation.py\", line 732, in _fit_and_score\n",
      "    estimator.fit(X_train, y_train, **fit_params)\n",
      "  File \"/Users/sp953694/Library/Python/3.9/lib/python/site-packages/sklearn/base.py\", line 1144, in wrapper\n",
      "    estimator._validate_params()\n",
      "  File \"/Users/sp953694/Library/Python/3.9/lib/python/site-packages/sklearn/base.py\", line 637, in _validate_params\n",
      "    validate_parameter_constraints(\n",
      "  File \"/Users/sp953694/Library/Python/3.9/lib/python/site-packages/sklearn/utils/_param_validation.py\", line 95, in validate_parameter_constraints\n",
      "    raise InvalidParameterError(\n",
      "sklearn.utils._param_validation.InvalidParameterError: The 'min_samples_split' parameter of DecisionTreeClassifier must be an int in the range [2, inf) or a float in the range (0.0, 1.0]. Got 1 instead.\n",
      "\n",
      "  warnings.warn(some_fits_failed_message, FitFailedWarning)\n",
      "/Users/sp953694/Library/Python/3.9/lib/python/site-packages/sklearn/model_selection/_search.py:976: UserWarning: One or more of the test scores are non-finite: [       nan 0.66791845 0.66791845        nan 0.6695279  0.6695279\n",
      "        nan 0.66995708 0.66995708        nan 0.67103004 0.67103004\n",
      "        nan 0.67167382 0.67167382        nan 0.67092275 0.67092275\n",
      "        nan 0.6695279  0.6695279         nan 0.66866953 0.66866953\n",
      "        nan 0.67049356 0.67049356        nan 0.67017167 0.67017167\n",
      "        nan 0.66759657 0.66759657        nan 0.66899142 0.66899142\n",
      "        nan 0.66834764 0.66834764        nan 0.66984979 0.66984979\n",
      "        nan 0.66770386 0.66770386        nan 0.65697425 0.65697425\n",
      "        nan 0.65740343 0.65740343        nan 0.65643777 0.65643777\n",
      "        nan 0.65847639 0.65847639        nan 0.65912017 0.65912017\n",
      "        nan 0.6693133  0.6693133         nan 0.67167382 0.67167382\n",
      "        nan 0.67242489 0.67242489        nan 0.67285408 0.67285408\n",
      "        nan 0.67360515 0.67360515        nan 0.66888412 0.66888412\n",
      "        nan 0.66899142 0.66899142        nan 0.66845494 0.66845494\n",
      "        nan 0.6693133  0.6693133         nan 0.66974249 0.66974249\n",
      "        nan 0.67178112 0.67178112        nan 0.67296137 0.67296137\n",
      "        nan 0.672103   0.672103          nan 0.67006438 0.67006438\n",
      "        nan 0.66888412 0.66888412        nan 0.66512876 0.66512876\n",
      "        nan 0.66309013 0.66309013        nan 0.6639485  0.6639485\n",
      "        nan 0.66287554 0.66287554        nan 0.66298283 0.66298283]\n",
      "  warnings.warn(\n"
     ]
    }
   ],
   "source": [
    "#gridsearchcv\n",
    "start = time.time()\n",
    "\n",
    "param_dist = {'max_depth': [7,8,9,10],\n",
    "              'min_samples_split': [1,2,3],\n",
    "              'min_samples_leaf':[5,6,7,8,9],\n",
    "              \n",
    "              'criterion': ['gini','entropy']\n",
    "              }\n",
    "\n",
    "cv_rf = GridSearchCV(model_dt, cv = 10,\n",
    "                     param_grid=param_dist, \n",
    "                     n_jobs = 3)\n",
    "\n",
    "cv_rf.fit(x_train_transformed, y_train)\n",
    "print('Best Parameters using grid search: \\n', cv_rf.best_params_)\n",
    "end = time.time()\n",
    "print('Time taken in grid search: {0: .2f}'.format(end - start))"
   ]
  },
  {
   "cell_type": "code",
   "execution_count": 160,
   "id": "4fd3b932",
   "metadata": {},
   "outputs": [
    {
     "name": "stdout",
     "output_type": "stream",
     "text": [
      "AUC: 0.670103882115051\n"
     ]
    }
   ],
   "source": [
    "#performance metrics\n",
    "\n",
    "y_pred_dt=model_dt.predict(x_test_transformed)\n",
    "fpr_dt, tpr_dt, _ = roc_curve(y_test, y_pred_dt)\n",
    "roc_auc_dt = auc(fpr_dt, tpr_dt)\n",
    "print(\"AUC:\",roc_auc_dt)"
   ]
  },
  {
   "cell_type": "code",
   "execution_count": 161,
   "id": "20de7470",
   "metadata": {},
   "outputs": [
    {
     "name": "stdout",
     "output_type": "stream",
     "text": [
      "Accuracy: 0.6742489270386266\n",
      "Recall: 0.6345966958211856\n",
      "Precision: 0.6303088803088803\n"
     ]
    }
   ],
   "source": [
    "from sklearn import metrics\n",
    "print(\"Accuracy:\",metrics.accuracy_score(y_test,y_pred_dt))\n",
    "print(\"Recall:\",metrics.recall_score(y_test,y_pred_dt))\n",
    "print(\"Precision:\",metrics.precision_score(y_test,y_pred_dt))"
   ]
  },
  {
   "cell_type": "code",
   "execution_count": 162,
   "id": "d687916b",
   "metadata": {},
   "outputs": [
    {
     "name": "stdout",
     "output_type": "stream",
     "text": [
      "[[918 383]\n",
      " [376 653]]\n",
      "              precision    recall  f1-score   support\n",
      "\n",
      "           0       0.71      0.71      0.71      1301\n",
      "           1       0.63      0.63      0.63      1029\n",
      "\n",
      "    accuracy                           0.67      2330\n",
      "   macro avg       0.67      0.67      0.67      2330\n",
      "weighted avg       0.67      0.67      0.67      2330\n",
      "\n"
     ]
    }
   ],
   "source": [
    "from sklearn.metrics import classification_report, confusion_matrix  \n",
    "print(confusion_matrix(y_test, y_pred_dt))  \n",
    "print(classification_report(y_test, y_pred_dt)) \n",
    "\n",
    "              "
   ]
  },
  {
   "cell_type": "markdown",
   "id": "ed403a05",
   "metadata": {},
   "source": [
    "## Random Forest"
   ]
  },
  {
   "cell_type": "code",
   "execution_count": 163,
   "id": "24afb948",
   "metadata": {},
   "outputs": [],
   "source": [
    "from sklearn.metrics import classification_report\n",
    "from sklearn.ensemble import RandomForestClassifier"
   ]
  },
  {
   "cell_type": "code",
   "execution_count": 164,
   "id": "1c17fdce",
   "metadata": {},
   "outputs": [],
   "source": [
    "fit_rf = RandomForestClassifier(random_state=42)"
   ]
  },
  {
   "cell_type": "code",
   "execution_count": 165,
   "id": "848f3dd7",
   "metadata": {},
   "outputs": [
    {
     "name": "stderr",
     "output_type": "stream",
     "text": [
      "/Users/sp953694/Library/Python/3.9/lib/python/site-packages/sklearn/model_selection/_validation.py:425: FitFailedWarning: \n",
      "160 fits failed out of a total of 640.\n",
      "The score on these train-test partitions for these parameters will be set to nan.\n",
      "If these failures are not expected, you can try to debug them by setting error_score='raise'.\n",
      "\n",
      "Below are more details about the failures:\n",
      "--------------------------------------------------------------------------------\n",
      "160 fits failed with the following error:\n",
      "Traceback (most recent call last):\n",
      "  File \"/Users/sp953694/Library/Python/3.9/lib/python/site-packages/sklearn/model_selection/_validation.py\", line 732, in _fit_and_score\n",
      "    estimator.fit(X_train, y_train, **fit_params)\n",
      "  File \"/Users/sp953694/Library/Python/3.9/lib/python/site-packages/sklearn/base.py\", line 1144, in wrapper\n",
      "    estimator._validate_params()\n",
      "  File \"/Users/sp953694/Library/Python/3.9/lib/python/site-packages/sklearn/base.py\", line 637, in _validate_params\n",
      "    validate_parameter_constraints(\n",
      "  File \"/Users/sp953694/Library/Python/3.9/lib/python/site-packages/sklearn/utils/_param_validation.py\", line 95, in validate_parameter_constraints\n",
      "    raise InvalidParameterError(\n",
      "sklearn.utils._param_validation.InvalidParameterError: The 'max_features' parameter of RandomForestClassifier must be an int in the range [1, inf), a float in the range (0.0, 1.0], a str among {'log2', 'sqrt'} or None. Got 'auto' instead.\n",
      "\n",
      "  warnings.warn(some_fits_failed_message, FitFailedWarning)\n",
      "/Users/sp953694/Library/Python/3.9/lib/python/site-packages/sklearn/model_selection/_search.py:976: UserWarning: One or more of the test scores are non-finite: [       nan 0.70450644 0.7082618  0.69892704        nan 0.7083691\n",
      " 0.70751073 0.69978541        nan 0.70815451 0.70740343 0.7001073\n",
      "        nan 0.70890558 0.70536481 0.70021459        nan 0.70740343\n",
      " 0.70879828 0.69957082        nan 0.70965665 0.70858369 0.69881974\n",
      "        nan 0.70976395 0.71072961 0.70032189        nan 0.71019313\n",
      " 0.70708155 0.70118026        nan 0.7055794  0.70793991 0.65504292\n",
      "        nan 0.70890558 0.70418455 0.64957082        nan 0.70901288\n",
      " 0.70944206 0.64603004        nan 0.70708155 0.70933476 0.64742489\n",
      "        nan 0.70933476 0.71008584 0.65493562        nan 0.70622318\n",
      " 0.71158798 0.65171674        nan 0.71040773 0.71008584 0.65171674\n",
      "        nan 0.71126609 0.71180258 0.65042918]\n",
      "  warnings.warn(\n"
     ]
    },
    {
     "name": "stdout",
     "output_type": "stream",
     "text": [
      "Best Parameters using grid search: \n",
      " {'bootstrap': False, 'criterion': 'entropy', 'max_depth': 15, 'max_features': 'log2'}\n",
      "Time taken in grid search:  223.84\n"
     ]
    }
   ],
   "source": [
    "np.random.seed(42)\n",
    "start = time.time()\n",
    "\n",
    "param_dist = {'max_depth': [12,13,14,15],\n",
    "              'bootstrap': [True, False],\n",
    "              'max_features': ['auto', 'sqrt', 'log2', None],\n",
    "              'criterion': ['gini', 'entropy']\n",
    "              }\n",
    "\n",
    "cv_rf = GridSearchCV(fit_rf, cv = 10,\n",
    "                     param_grid=param_dist, \n",
    "                     n_jobs = 3)\n",
    "\n",
    "cv_rf.fit(x_train_transformed, y_train)\n",
    "print('Best Parameters using grid search: \\n', cv_rf.best_params_)\n",
    "end = time.time()\n",
    "print('Time taken in grid search: {0: .2f}'.format(end - start))"
   ]
  },
  {
   "cell_type": "code",
   "execution_count": 166,
   "id": "ae7fb8a2",
   "metadata": {},
   "outputs": [
    {
     "data": {
      "text/html": [
       "<style>#sk-container-id-3 {color: black;}#sk-container-id-3 pre{padding: 0;}#sk-container-id-3 div.sk-toggleable {background-color: white;}#sk-container-id-3 label.sk-toggleable__label {cursor: pointer;display: block;width: 100%;margin-bottom: 0;padding: 0.3em;box-sizing: border-box;text-align: center;}#sk-container-id-3 label.sk-toggleable__label-arrow:before {content: \"▸\";float: left;margin-right: 0.25em;color: #696969;}#sk-container-id-3 label.sk-toggleable__label-arrow:hover:before {color: black;}#sk-container-id-3 div.sk-estimator:hover label.sk-toggleable__label-arrow:before {color: black;}#sk-container-id-3 div.sk-toggleable__content {max-height: 0;max-width: 0;overflow: hidden;text-align: left;background-color: #f0f8ff;}#sk-container-id-3 div.sk-toggleable__content pre {margin: 0.2em;color: black;border-radius: 0.25em;background-color: #f0f8ff;}#sk-container-id-3 input.sk-toggleable__control:checked~div.sk-toggleable__content {max-height: 200px;max-width: 100%;overflow: auto;}#sk-container-id-3 input.sk-toggleable__control:checked~label.sk-toggleable__label-arrow:before {content: \"▾\";}#sk-container-id-3 div.sk-estimator input.sk-toggleable__control:checked~label.sk-toggleable__label {background-color: #d4ebff;}#sk-container-id-3 div.sk-label input.sk-toggleable__control:checked~label.sk-toggleable__label {background-color: #d4ebff;}#sk-container-id-3 input.sk-hidden--visually {border: 0;clip: rect(1px 1px 1px 1px);clip: rect(1px, 1px, 1px, 1px);height: 1px;margin: -1px;overflow: hidden;padding: 0;position: absolute;width: 1px;}#sk-container-id-3 div.sk-estimator {font-family: monospace;background-color: #f0f8ff;border: 1px dotted black;border-radius: 0.25em;box-sizing: border-box;margin-bottom: 0.5em;}#sk-container-id-3 div.sk-estimator:hover {background-color: #d4ebff;}#sk-container-id-3 div.sk-parallel-item::after {content: \"\";width: 100%;border-bottom: 1px solid gray;flex-grow: 1;}#sk-container-id-3 div.sk-label:hover label.sk-toggleable__label {background-color: #d4ebff;}#sk-container-id-3 div.sk-serial::before {content: \"\";position: absolute;border-left: 1px solid gray;box-sizing: border-box;top: 0;bottom: 0;left: 50%;z-index: 0;}#sk-container-id-3 div.sk-serial {display: flex;flex-direction: column;align-items: center;background-color: white;padding-right: 0.2em;padding-left: 0.2em;position: relative;}#sk-container-id-3 div.sk-item {position: relative;z-index: 1;}#sk-container-id-3 div.sk-parallel {display: flex;align-items: stretch;justify-content: center;background-color: white;position: relative;}#sk-container-id-3 div.sk-item::before, #sk-container-id-3 div.sk-parallel-item::before {content: \"\";position: absolute;border-left: 1px solid gray;box-sizing: border-box;top: 0;bottom: 0;left: 50%;z-index: -1;}#sk-container-id-3 div.sk-parallel-item {display: flex;flex-direction: column;z-index: 1;position: relative;background-color: white;}#sk-container-id-3 div.sk-parallel-item:first-child::after {align-self: flex-end;width: 50%;}#sk-container-id-3 div.sk-parallel-item:last-child::after {align-self: flex-start;width: 50%;}#sk-container-id-3 div.sk-parallel-item:only-child::after {width: 0;}#sk-container-id-3 div.sk-dashed-wrapped {border: 1px dashed gray;margin: 0 0.4em 0.5em 0.4em;box-sizing: border-box;padding-bottom: 0.4em;background-color: white;}#sk-container-id-3 div.sk-label label {font-family: monospace;font-weight: bold;display: inline-block;line-height: 1.2em;}#sk-container-id-3 div.sk-label-container {text-align: center;}#sk-container-id-3 div.sk-container {/* jupyter's `normalize.less` sets `[hidden] { display: none; }` but bootstrap.min.css set `[hidden] { display: none !important; }` so we also need the `!important` here to be able to override the default hidden behavior on the sphinx rendered scikit-learn.org. See: https://github.com/scikit-learn/scikit-learn/issues/21755 */display: inline-block !important;position: relative;}#sk-container-id-3 div.sk-text-repr-fallback {display: none;}</style><div id=\"sk-container-id-3\" class=\"sk-top-container\"><div class=\"sk-text-repr-fallback\"><pre>RandomForestClassifier(criterion=&#x27;entropy&#x27;, max_depth=14, max_features=&#x27;log2&#x27;,\n",
       "                       random_state=42)</pre><b>In a Jupyter environment, please rerun this cell to show the HTML representation or trust the notebook. <br />On GitHub, the HTML representation is unable to render, please try loading this page with nbviewer.org.</b></div><div class=\"sk-container\" hidden><div class=\"sk-item\"><div class=\"sk-estimator sk-toggleable\"><input class=\"sk-toggleable__control sk-hidden--visually\" id=\"sk-estimator-id-3\" type=\"checkbox\" checked><label for=\"sk-estimator-id-3\" class=\"sk-toggleable__label sk-toggleable__label-arrow\">RandomForestClassifier</label><div class=\"sk-toggleable__content\"><pre>RandomForestClassifier(criterion=&#x27;entropy&#x27;, max_depth=14, max_features=&#x27;log2&#x27;,\n",
       "                       random_state=42)</pre></div></div></div></div></div>"
      ],
      "text/plain": [
       "RandomForestClassifier(criterion='entropy', max_depth=14, max_features='log2',\n",
       "                       random_state=42)"
      ]
     },
     "execution_count": 166,
     "metadata": {},
     "output_type": "execute_result"
    }
   ],
   "source": [
    "# Set best parameters given by grid search \n",
    "fit_rf.set_params(criterion = 'entropy',\n",
    "                  max_features = 'log2', \n",
    "                  max_depth = 14)"
   ]
  },
  {
   "cell_type": "code",
   "execution_count": 167,
   "id": "5df2f1b1",
   "metadata": {},
   "outputs": [
    {
     "name": "stderr",
     "output_type": "stream",
     "text": [
      "/Users/sp953694/Library/Python/3.9/lib/python/site-packages/sklearn/ensemble/_forest.py:578: UserWarning: Some inputs do not have OOB scores. This probably means too few trees were used to compute any reliable OOB estimates.\n",
      "  warn(\n",
      "/Users/sp953694/Library/Python/3.9/lib/python/site-packages/sklearn/ensemble/_forest.py:578: UserWarning: Some inputs do not have OOB scores. This probably means too few trees were used to compute any reliable OOB estimates.\n",
      "  warn(\n",
      "/Users/sp953694/Library/Python/3.9/lib/python/site-packages/sklearn/ensemble/_forest.py:578: UserWarning: Some inputs do not have OOB scores. This probably means too few trees were used to compute any reliable OOB estimates.\n",
      "  warn(\n",
      "/Users/sp953694/Library/Python/3.9/lib/python/site-packages/sklearn/ensemble/_forest.py:578: UserWarning: Some inputs do not have OOB scores. This probably means too few trees were used to compute any reliable OOB estimates.\n",
      "  warn(\n",
      "/Users/sp953694/Library/Python/3.9/lib/python/site-packages/sklearn/ensemble/_forest.py:578: UserWarning: Some inputs do not have OOB scores. This probably means too few trees were used to compute any reliable OOB estimates.\n",
      "  warn(\n",
      "/Users/sp953694/Library/Python/3.9/lib/python/site-packages/sklearn/ensemble/_forest.py:578: UserWarning: Some inputs do not have OOB scores. This probably means too few trees were used to compute any reliable OOB estimates.\n",
      "  warn(\n",
      "/Users/sp953694/Library/Python/3.9/lib/python/site-packages/sklearn/ensemble/_forest.py:578: UserWarning: Some inputs do not have OOB scores. This probably means too few trees were used to compute any reliable OOB estimates.\n",
      "  warn(\n",
      "/Users/sp953694/Library/Python/3.9/lib/python/site-packages/sklearn/ensemble/_forest.py:578: UserWarning: Some inputs do not have OOB scores. This probably means too few trees were used to compute any reliable OOB estimates.\n",
      "  warn(\n"
     ]
    }
   ],
   "source": [
    "fit_rf.set_params(warm_start=True, \n",
    "                  oob_score=True)\n",
    "\n",
    "min_estimators = 15\n",
    "max_estimators = 1000\n",
    "\n",
    "error_rate = {}\n",
    "\n",
    "for i in range(min_estimators, max_estimators + 1):\n",
    "    fit_rf.set_params(n_estimators=i)\n",
    "    fit_rf.fit(x_train_transformed, y_train)\n",
    "\n",
    "    oob_error = 1 - fit_rf.oob_score_\n",
    "    error_rate[i] = oob_error"
   ]
  },
  {
   "cell_type": "code",
   "execution_count": 168,
   "id": "09b9549e",
   "metadata": {},
   "outputs": [],
   "source": [
    "# Convert dictionary to a pandas series for easy plotting \n",
    "oob_series = pd.Series(error_rate)"
   ]
  },
  {
   "cell_type": "code",
   "execution_count": 169,
   "id": "55fb2850",
   "metadata": {},
   "outputs": [
    {
     "data": {
      "text/plain": [
       "Text(0.5, 1.0, 'OOB Error Rate Across various Forest sizes \\n(From 15 to 1000 trees)')"
      ]
     },
     "execution_count": 169,
     "metadata": {},
     "output_type": "execute_result"
    },
    {
     "data": {
      "image/png": "[encoded data removed]",
      "text/plain": [
       "<Figure size 1000x500 with 1 Axes>"
      ]
     },
     "metadata": {},
     "output_type": "display_data"
    }
   ],
   "source": [
    "fig, ax = plt.subplots(figsize=(10, 5))\n",
    "\n",
    "ax.set_facecolor('#fafafa')\n",
    "\n",
    "oob_series.plot(kind='line',color = 'red')\n",
    "plt.axhline(0.055, color='#875FDB',linestyle='--')\n",
    "plt.axhline(0.05, color='#875FDB',linestyle='--')\n",
    "plt.xlabel('n_estimators')\n",
    "plt.ylabel('OOB Error Rate')\n",
    "plt.title('OOB Error Rate Across various Forest sizes \\n(From 15 to 1000 trees)')"
   ]
  },
  {
   "cell_type": "code",
   "execution_count": 170,
   "id": "b4e72ca7",
   "metadata": {},
   "outputs": [
    {
     "data": {
      "text/html": [
       "<style>#sk-container-id-4 {color: black;}#sk-container-id-4 pre{padding: 0;}#sk-container-id-4 div.sk-toggleable {background-color: white;}#sk-container-id-4 label.sk-toggleable__label {cursor: pointer;display: block;width: 100%;margin-bottom: 0;padding: 0.3em;box-sizing: border-box;text-align: center;}#sk-container-id-4 label.sk-toggleable__label-arrow:before {content: \"▸\";float: left;margin-right: 0.25em;color: #696969;}#sk-container-id-4 label.sk-toggleable__label-arrow:hover:before {color: black;}#sk-container-id-4 div.sk-estimator:hover label.sk-toggleable__label-arrow:before {color: black;}#sk-container-id-4 div.sk-toggleable__content {max-height: 0;max-width: 0;overflow: hidden;text-align: left;background-color: #f0f8ff;}#sk-container-id-4 div.sk-toggleable__content pre {margin: 0.2em;color: black;border-radius: 0.25em;background-color: #f0f8ff;}#sk-container-id-4 input.sk-toggleable__control:checked~div.sk-toggleable__content {max-height: 200px;max-width: 100%;overflow: auto;}#sk-container-id-4 input.sk-toggleable__control:checked~label.sk-toggleable__label-arrow:before {content: \"▾\";}#sk-container-id-4 div.sk-estimator input.sk-toggleable__control:checked~label.sk-toggleable__label {background-color: #d4ebff;}#sk-container-id-4 div.sk-label input.sk-toggleable__control:checked~label.sk-toggleable__label {background-color: #d4ebff;}#sk-container-id-4 input.sk-hidden--visually {border: 0;clip: rect(1px 1px 1px 1px);clip: rect(1px, 1px, 1px, 1px);height: 1px;margin: -1px;overflow: hidden;padding: 0;position: absolute;width: 1px;}#sk-container-id-4 div.sk-estimator {font-family: monospace;background-color: #f0f8ff;border: 1px dotted black;border-radius: 0.25em;box-sizing: border-box;margin-bottom: 0.5em;}#sk-container-id-4 div.sk-estimator:hover {background-color: #d4ebff;}#sk-container-id-4 div.sk-parallel-item::after {content: \"\";width: 100%;border-bottom: 1px solid gray;flex-grow: 1;}#sk-container-id-4 div.sk-label:hover label.sk-toggleable__label {background-color: #d4ebff;}#sk-container-id-4 div.sk-serial::before {content: \"\";position: absolute;border-left: 1px solid gray;box-sizing: border-box;top: 0;bottom: 0;left: 50%;z-index: 0;}#sk-container-id-4 div.sk-serial {display: flex;flex-direction: column;align-items: center;background-color: white;padding-right: 0.2em;padding-left: 0.2em;position: relative;}#sk-container-id-4 div.sk-item {position: relative;z-index: 1;}#sk-container-id-4 div.sk-parallel {display: flex;align-items: stretch;justify-content: center;background-color: white;position: relative;}#sk-container-id-4 div.sk-item::before, #sk-container-id-4 div.sk-parallel-item::before {content: \"\";position: absolute;border-left: 1px solid gray;box-sizing: border-box;top: 0;bottom: 0;left: 50%;z-index: -1;}#sk-container-id-4 div.sk-parallel-item {display: flex;flex-direction: column;z-index: 1;position: relative;background-color: white;}#sk-container-id-4 div.sk-parallel-item:first-child::after {align-self: flex-end;width: 50%;}#sk-container-id-4 div.sk-parallel-item:last-child::after {align-self: flex-start;width: 50%;}#sk-container-id-4 div.sk-parallel-item:only-child::after {width: 0;}#sk-container-id-4 div.sk-dashed-wrapped {border: 1px dashed gray;margin: 0 0.4em 0.5em 0.4em;box-sizing: border-box;padding-bottom: 0.4em;background-color: white;}#sk-container-id-4 div.sk-label label {font-family: monospace;font-weight: bold;display: inline-block;line-height: 1.2em;}#sk-container-id-4 div.sk-label-container {text-align: center;}#sk-container-id-4 div.sk-container {/* jupyter's `normalize.less` sets `[hidden] { display: none; }` but bootstrap.min.css set `[hidden] { display: none !important; }` so we also need the `!important` here to be able to override the default hidden behavior on the sphinx rendered scikit-learn.org. See: https://github.com/scikit-learn/scikit-learn/issues/21755 */display: inline-block !important;position: relative;}#sk-container-id-4 div.sk-text-repr-fallback {display: none;}</style><div id=\"sk-container-id-4\" class=\"sk-top-container\"><div class=\"sk-text-repr-fallback\"><pre>RandomForestClassifier(criterion=&#x27;entropy&#x27;, max_depth=14, max_features=&#x27;log2&#x27;,\n",
       "                       n_estimators=180, random_state=42)</pre><b>In a Jupyter environment, please rerun this cell to show the HTML representation or trust the notebook. <br />On GitHub, the HTML representation is unable to render, please try loading this page with nbviewer.org.</b></div><div class=\"sk-container\" hidden><div class=\"sk-item\"><div class=\"sk-estimator sk-toggleable\"><input class=\"sk-toggleable__control sk-hidden--visually\" id=\"sk-estimator-id-4\" type=\"checkbox\" checked><label for=\"sk-estimator-id-4\" class=\"sk-toggleable__label sk-toggleable__label-arrow\">RandomForestClassifier</label><div class=\"sk-toggleable__content\"><pre>RandomForestClassifier(criterion=&#x27;entropy&#x27;, max_depth=14, max_features=&#x27;log2&#x27;,\n",
       "                       n_estimators=180, random_state=42)</pre></div></div></div></div></div>"
      ],
      "text/plain": [
       "RandomForestClassifier(criterion='entropy', max_depth=14, max_features='log2',\n",
       "                       n_estimators=180, random_state=42)"
      ]
     },
     "execution_count": 170,
     "metadata": {},
     "output_type": "execute_result"
    }
   ],
   "source": [
    "# Refine the tree via OOB Output\n",
    "fit_rf.set_params(n_estimators=180,\n",
    "                  bootstrap = True,\n",
    "                  warm_start=False, \n",
    "                  oob_score=False)"
   ]
  },
  {
   "cell_type": "code",
   "execution_count": 171,
   "id": "2b328251",
   "metadata": {},
   "outputs": [
    {
     "data": {
      "text/html": [
       "<style>#sk-container-id-5 {color: black;}#sk-container-id-5 pre{padding: 0;}#sk-container-id-5 div.sk-toggleable {background-color: white;}#sk-container-id-5 label.sk-toggleable__label {cursor: pointer;display: block;width: 100%;margin-bottom: 0;padding: 0.3em;box-sizing: border-box;text-align: center;}#sk-container-id-5 label.sk-toggleable__label-arrow:before {content: \"▸\";float: left;margin-right: 0.25em;color: #696969;}#sk-container-id-5 label.sk-toggleable__label-arrow:hover:before {color: black;}#sk-container-id-5 div.sk-estimator:hover label.sk-toggleable__label-arrow:before {color: black;}#sk-container-id-5 div.sk-toggleable__content {max-height: 0;max-width: 0;overflow: hidden;text-align: left;background-color: #f0f8ff;}#sk-container-id-5 div.sk-toggleable__content pre {margin: 0.2em;color: black;border-radius: 0.25em;background-color: #f0f8ff;}#sk-container-id-5 input.sk-toggleable__control:checked~div.sk-toggleable__content {max-height: 200px;max-width: 100%;overflow: auto;}#sk-container-id-5 input.sk-toggleable__control:checked~label.sk-toggleable__label-arrow:before {content: \"▾\";}#sk-container-id-5 div.sk-estimator input.sk-toggleable__control:checked~label.sk-toggleable__label {background-color: #d4ebff;}#sk-container-id-5 div.sk-label input.sk-toggleable__control:checked~label.sk-toggleable__label {background-color: #d4ebff;}#sk-container-id-5 input.sk-hidden--visually {border: 0;clip: rect(1px 1px 1px 1px);clip: rect(1px, 1px, 1px, 1px);height: 1px;margin: -1px;overflow: hidden;padding: 0;position: absolute;width: 1px;}#sk-container-id-5 div.sk-estimator {font-family: monospace;background-color: #f0f8ff;border: 1px dotted black;border-radius: 0.25em;box-sizing: border-box;margin-bottom: 0.5em;}#sk-container-id-5 div.sk-estimator:hover {background-color: #d4ebff;}#sk-container-id-5 div.sk-parallel-item::after {content: \"\";width: 100%;border-bottom: 1px solid gray;flex-grow: 1;}#sk-container-id-5 div.sk-label:hover label.sk-toggleable__label {background-color: #d4ebff;}#sk-container-id-5 div.sk-serial::before {content: \"\";position: absolute;border-left: 1px solid gray;box-sizing: border-box;top: 0;bottom: 0;left: 50%;z-index: 0;}#sk-container-id-5 div.sk-serial {display: flex;flex-direction: column;align-items: center;background-color: white;padding-right: 0.2em;padding-left: 0.2em;position: relative;}#sk-container-id-5 div.sk-item {position: relative;z-index: 1;}#sk-container-id-5 div.sk-parallel {display: flex;align-items: stretch;justify-content: center;background-color: white;position: relative;}#sk-container-id-5 div.sk-item::before, #sk-container-id-5 div.sk-parallel-item::before {content: \"\";position: absolute;border-left: 1px solid gray;box-sizing: border-box;top: 0;bottom: 0;left: 50%;z-index: -1;}#sk-container-id-5 div.sk-parallel-item {display: flex;flex-direction: column;z-index: 1;position: relative;background-color: white;}#sk-container-id-5 div.sk-parallel-item:first-child::after {align-self: flex-end;width: 50%;}#sk-container-id-5 div.sk-parallel-item:last-child::after {align-self: flex-start;width: 50%;}#sk-container-id-5 div.sk-parallel-item:only-child::after {width: 0;}#sk-container-id-5 div.sk-dashed-wrapped {border: 1px dashed gray;margin: 0 0.4em 0.5em 0.4em;box-sizing: border-box;padding-bottom: 0.4em;background-color: white;}#sk-container-id-5 div.sk-label label {font-family: monospace;font-weight: bold;display: inline-block;line-height: 1.2em;}#sk-container-id-5 div.sk-label-container {text-align: center;}#sk-container-id-5 div.sk-container {/* jupyter's `normalize.less` sets `[hidden] { display: none; }` but bootstrap.min.css set `[hidden] { display: none !important; }` so we also need the `!important` here to be able to override the default hidden behavior on the sphinx rendered scikit-learn.org. See: https://github.com/scikit-learn/scikit-learn/issues/21755 */display: inline-block !important;position: relative;}#sk-container-id-5 div.sk-text-repr-fallback {display: none;}</style><div id=\"sk-container-id-5\" class=\"sk-top-container\"><div class=\"sk-text-repr-fallback\"><pre>RandomForestClassifier(criterion=&#x27;entropy&#x27;, max_depth=14, max_features=&#x27;log2&#x27;,\n",
       "                       n_estimators=180, random_state=42)</pre><b>In a Jupyter environment, please rerun this cell to show the HTML representation or trust the notebook. <br />On GitHub, the HTML representation is unable to render, please try loading this page with nbviewer.org.</b></div><div class=\"sk-container\" hidden><div class=\"sk-item\"><div class=\"sk-estimator sk-toggleable\"><input class=\"sk-toggleable__control sk-hidden--visually\" id=\"sk-estimator-id-5\" type=\"checkbox\" checked><label for=\"sk-estimator-id-5\" class=\"sk-toggleable__label sk-toggleable__label-arrow\">RandomForestClassifier</label><div class=\"sk-toggleable__content\"><pre>RandomForestClassifier(criterion=&#x27;entropy&#x27;, max_depth=14, max_features=&#x27;log2&#x27;,\n",
       "                       n_estimators=180, random_state=42)</pre></div></div></div></div></div>"
      ],
      "text/plain": [
       "RandomForestClassifier(criterion='entropy', max_depth=14, max_features='log2',\n",
       "                       n_estimators=180, random_state=42)"
      ]
     },
     "execution_count": 171,
     "metadata": {},
     "output_type": "execute_result"
    }
   ],
   "source": [
    "fit_rf.fit(x_train_transformed,y_train)"
   ]
  },
  {
   "cell_type": "code",
   "execution_count": 172,
   "id": "f62bd7da",
   "metadata": {},
   "outputs": [],
   "source": [
    "predictions_rf = fit_rf.predict(x_test_transformed)"
   ]
  },
  {
   "cell_type": "code",
   "execution_count": 173,
   "id": "0c888efd",
   "metadata": {},
   "outputs": [
    {
     "name": "stdout",
     "output_type": "stream",
     "text": [
      "AUC: 0.6970637821396264\n"
     ]
    }
   ],
   "source": [
    "#performance metrics\n",
    "\n",
    "\n",
    "fpr_rf, tpr_rf, _ = roc_curve(y_test, predictions_rf)\n",
    "roc_auc_rf = auc(fpr_rf, tpr_rf)\n",
    "print(\"AUC:\",roc_auc_rf)\n"
   ]
  },
  {
   "cell_type": "code",
   "execution_count": 174,
   "id": "3b7c0f14",
   "metadata": {},
   "outputs": [
    {
     "name": "stdout",
     "output_type": "stream",
     "text": [
      "Accuracy: 0.7051502145922747\n",
      "Recall: 0.6277939747327502\n",
      "Precision: 0.68\n"
     ]
    }
   ],
   "source": [
    "from sklearn import metrics\n",
    "print(\"Accuracy:\",metrics.accuracy_score(y_test,predictions_rf))\n",
    "print(\"Recall:\",metrics.recall_score(y_test,predictions_rf))\n",
    "print(\"Precision:\",metrics.precision_score(y_test,predictions_rf))"
   ]
  },
  {
   "cell_type": "code",
   "execution_count": 176,
   "id": "02b0971e",
   "metadata": {},
   "outputs": [
    {
     "name": "stdout",
     "output_type": "stream",
     "text": [
      "[[997 304]\n",
      " [383 646]]\n",
      "              precision    recall  f1-score   support\n",
      "\n",
      "           0       0.72      0.77      0.74      1301\n",
      "           1       0.68      0.63      0.65      1029\n",
      "\n",
      "    accuracy                           0.71      2330\n",
      "   macro avg       0.70      0.70      0.70      2330\n",
      "weighted avg       0.70      0.71      0.70      2330\n",
      "\n"
     ]
    }
   ],
   "source": [
    "from sklearn.metrics import classification_report, confusion_matrix  \n",
    "print(confusion_matrix(y_test, predictions_rf))  \n",
    "print(classification_report(y_test, predictions_rf)) \n",
    "\n"
   ]
  },
  {
   "cell_type": "markdown",
   "id": "74d22ea2",
   "metadata": {},
   "source": [
    "# KNN"
   ]
  },
  {
   "cell_type": "code",
   "execution_count": 177,
   "id": "884c1a21",
   "metadata": {},
   "outputs": [
    {
     "data": {
      "text/html": [
       "<style>#sk-container-id-6 {color: black;}#sk-container-id-6 pre{padding: 0;}#sk-container-id-6 div.sk-toggleable {background-color: white;}#sk-container-id-6 label.sk-toggleable__label {cursor: pointer;display: block;width: 100%;margin-bottom: 0;padding: 0.3em;box-sizing: border-box;text-align: center;}#sk-container-id-6 label.sk-toggleable__label-arrow:before {content: \"▸\";float: left;margin-right: 0.25em;color: #696969;}#sk-container-id-6 label.sk-toggleable__label-arrow:hover:before {color: black;}#sk-container-id-6 div.sk-estimator:hover label.sk-toggleable__label-arrow:before {color: black;}#sk-container-id-6 div.sk-toggleable__content {max-height: 0;max-width: 0;overflow: hidden;text-align: left;background-color: #f0f8ff;}#sk-container-id-6 div.sk-toggleable__content pre {margin: 0.2em;color: black;border-radius: 0.25em;background-color: #f0f8ff;}#sk-container-id-6 input.sk-toggleable__control:checked~div.sk-toggleable__content {max-height: 200px;max-width: 100%;overflow: auto;}#sk-container-id-6 input.sk-toggleable__control:checked~label.sk-toggleable__label-arrow:before {content: \"▾\";}#sk-container-id-6 div.sk-estimator input.sk-toggleable__control:checked~label.sk-toggleable__label {background-color: #d4ebff;}#sk-container-id-6 div.sk-label input.sk-toggleable__control:checked~label.sk-toggleable__label {background-color: #d4ebff;}#sk-container-id-6 input.sk-hidden--visually {border: 0;clip: rect(1px 1px 1px 1px);clip: rect(1px, 1px, 1px, 1px);height: 1px;margin: -1px;overflow: hidden;padding: 0;position: absolute;width: 1px;}#sk-container-id-6 div.sk-estimator {font-family: monospace;background-color: #f0f8ff;border: 1px dotted black;border-radius: 0.25em;box-sizing: border-box;margin-bottom: 0.5em;}#sk-container-id-6 div.sk-estimator:hover {background-color: #d4ebff;}#sk-container-id-6 div.sk-parallel-item::after {content: \"\";width: 100%;border-bottom: 1px solid gray;flex-grow: 1;}#sk-container-id-6 div.sk-label:hover label.sk-toggleable__label {background-color: #d4ebff;}#sk-container-id-6 div.sk-serial::before {content: \"\";position: absolute;border-left: 1px solid gray;box-sizing: border-box;top: 0;bottom: 0;left: 50%;z-index: 0;}#sk-container-id-6 div.sk-serial {display: flex;flex-direction: column;align-items: center;background-color: white;padding-right: 0.2em;padding-left: 0.2em;position: relative;}#sk-container-id-6 div.sk-item {position: relative;z-index: 1;}#sk-container-id-6 div.sk-parallel {display: flex;align-items: stretch;justify-content: center;background-color: white;position: relative;}#sk-container-id-6 div.sk-item::before, #sk-container-id-6 div.sk-parallel-item::before {content: \"\";position: absolute;border-left: 1px solid gray;box-sizing: border-box;top: 0;bottom: 0;left: 50%;z-index: -1;}#sk-container-id-6 div.sk-parallel-item {display: flex;flex-direction: column;z-index: 1;position: relative;background-color: white;}#sk-container-id-6 div.sk-parallel-item:first-child::after {align-self: flex-end;width: 50%;}#sk-container-id-6 div.sk-parallel-item:last-child::after {align-self: flex-start;width: 50%;}#sk-container-id-6 div.sk-parallel-item:only-child::after {width: 0;}#sk-container-id-6 div.sk-dashed-wrapped {border: 1px dashed gray;margin: 0 0.4em 0.5em 0.4em;box-sizing: border-box;padding-bottom: 0.4em;background-color: white;}#sk-container-id-6 div.sk-label label {font-family: monospace;font-weight: bold;display: inline-block;line-height: 1.2em;}#sk-container-id-6 div.sk-label-container {text-align: center;}#sk-container-id-6 div.sk-container {/* jupyter's `normalize.less` sets `[hidden] { display: none; }` but bootstrap.min.css set `[hidden] { display: none !important; }` so we also need the `!important` here to be able to override the default hidden behavior on the sphinx rendered scikit-learn.org. See: https://github.com/scikit-learn/scikit-learn/issues/21755 */display: inline-block !important;position: relative;}#sk-container-id-6 div.sk-text-repr-fallback {display: none;}</style><div id=\"sk-container-id-6\" class=\"sk-top-container\"><div class=\"sk-text-repr-fallback\"><pre>KNeighborsClassifier(metric=&#x27;manhattan&#x27;, n_neighbors=59)</pre><b>In a Jupyter environment, please rerun this cell to show the HTML representation or trust the notebook. <br />On GitHub, the HTML representation is unable to render, please try loading this page with nbviewer.org.</b></div><div class=\"sk-container\" hidden><div class=\"sk-item\"><div class=\"sk-estimator sk-toggleable\"><input class=\"sk-toggleable__control sk-hidden--visually\" id=\"sk-estimator-id-6\" type=\"checkbox\" checked><label for=\"sk-estimator-id-6\" class=\"sk-toggleable__label sk-toggleable__label-arrow\">KNeighborsClassifier</label><div class=\"sk-toggleable__content\"><pre>KNeighborsClassifier(metric=&#x27;manhattan&#x27;, n_neighbors=59)</pre></div></div></div></div></div>"
      ],
      "text/plain": [
       "KNeighborsClassifier(metric='manhattan', n_neighbors=59)"
      ]
     },
     "execution_count": 177,
     "metadata": {},
     "output_type": "execute_result"
    }
   ],
   "source": [
    "from sklearn.neighbors import KNeighborsClassifier \n",
    "\n",
    "classifier = KNeighborsClassifier(n_neighbors=59,metric='manhattan')  \n",
    "classifier.fit(x_train_transformed,y_train)  "
   ]
  },
  {
   "cell_type": "code",
   "execution_count": 178,
   "id": "12a3c843",
   "metadata": {},
   "outputs": [
    {
     "name": "stdout",
     "output_type": "stream",
     "text": [
      "Best Parameters using grid search: \n",
      " {'metric': 'manhattan', 'n_neighbors': 59}\n",
      "Time taken in grid search:  3.60\n"
     ]
    },
    {
     "name": "stderr",
     "output_type": "stream",
     "text": [
      "/Users/sp953694/Library/Python/3.9/lib/python/site-packages/sklearn/model_selection/_validation.py:425: FitFailedWarning: \n",
      "40 fits failed out of a total of 80.\n",
      "The score on these train-test partitions for these parameters will be set to nan.\n",
      "If these failures are not expected, you can try to debug them by setting error_score='raise'.\n",
      "\n",
      "Below are more details about the failures:\n",
      "--------------------------------------------------------------------------------\n",
      "15 fits failed with the following error:\n",
      "Traceback (most recent call last):\n",
      "  File \"/Users/sp953694/Library/Python/3.9/lib/python/site-packages/sklearn/model_selection/_validation.py\", line 732, in _fit_and_score\n",
      "    estimator.fit(X_train, y_train, **fit_params)\n",
      "  File \"/Users/sp953694/Library/Python/3.9/lib/python/site-packages/sklearn/base.py\", line 1144, in wrapper\n",
      "    estimator._validate_params()\n",
      "  File \"/Users/sp953694/Library/Python/3.9/lib/python/site-packages/sklearn/base.py\", line 637, in _validate_params\n",
      "    validate_parameter_constraints(\n",
      "  File \"/Users/sp953694/Library/Python/3.9/lib/python/site-packages/sklearn/utils/_param_validation.py\", line 95, in validate_parameter_constraints\n",
      "    raise InvalidParameterError(\n",
      "sklearn.utils._param_validation.InvalidParameterError: The 'metric' parameter of KNeighborsClassifier must be a str among {'l2', 'pyfunc', 'yule', 'cosine', 'p', 'sokalmichener', 'l1', 'seuclidean', 'rogerstanimoto', 'euclidean', 'chebyshev', 'canberra', 'mahalanobis', 'hamming', 'correlation', 'sqeuclidean', 'manhattan', 'cityblock', 'jaccard', 'minkowski', 'nan_euclidean', 'precomputed', 'haversine', 'sokalsneath', 'infinity', 'russellrao', 'braycurtis', 'dice'} or a callable. Got 'eucleadian' instead.\n",
      "\n",
      "--------------------------------------------------------------------------------\n",
      "10 fits failed with the following error:\n",
      "Traceback (most recent call last):\n",
      "  File \"/Users/sp953694/Library/Python/3.9/lib/python/site-packages/sklearn/model_selection/_validation.py\", line 732, in _fit_and_score\n",
      "    estimator.fit(X_train, y_train, **fit_params)\n",
      "  File \"/Users/sp953694/Library/Python/3.9/lib/python/site-packages/sklearn/base.py\", line 1144, in wrapper\n",
      "    estimator._validate_params()\n",
      "  File \"/Users/sp953694/Library/Python/3.9/lib/python/site-packages/sklearn/base.py\", line 637, in _validate_params\n",
      "    validate_parameter_constraints(\n",
      "  File \"/Users/sp953694/Library/Python/3.9/lib/python/site-packages/sklearn/utils/_param_validation.py\", line 95, in validate_parameter_constraints\n",
      "    raise InvalidParameterError(\n",
      "sklearn.utils._param_validation.InvalidParameterError: The 'metric' parameter of KNeighborsClassifier must be a str among {'precomputed', 'l2', 'p', 'dice', 'sqeuclidean', 'manhattan', 'sokalsneath', 'mahalanobis', 'seuclidean', 'correlation', 'hamming', 'nan_euclidean', 'pyfunc', 'russellrao', 'haversine', 'cosine', 'infinity', 'l1', 'rogerstanimoto', 'yule', 'chebyshev', 'jaccard', 'cityblock', 'canberra', 'sokalmichener', 'braycurtis', 'euclidean', 'minkowski'} or a callable. Got 'eucleadian' instead.\n",
      "\n",
      "--------------------------------------------------------------------------------\n",
      "15 fits failed with the following error:\n",
      "Traceback (most recent call last):\n",
      "  File \"/Users/sp953694/Library/Python/3.9/lib/python/site-packages/sklearn/model_selection/_validation.py\", line 732, in _fit_and_score\n",
      "    estimator.fit(X_train, y_train, **fit_params)\n",
      "  File \"/Users/sp953694/Library/Python/3.9/lib/python/site-packages/sklearn/base.py\", line 1144, in wrapper\n",
      "    estimator._validate_params()\n",
      "  File \"/Users/sp953694/Library/Python/3.9/lib/python/site-packages/sklearn/base.py\", line 637, in _validate_params\n",
      "    validate_parameter_constraints(\n",
      "  File \"/Users/sp953694/Library/Python/3.9/lib/python/site-packages/sklearn/utils/_param_validation.py\", line 95, in validate_parameter_constraints\n",
      "    raise InvalidParameterError(\n",
      "sklearn.utils._param_validation.InvalidParameterError: The 'metric' parameter of KNeighborsClassifier must be a str among {'hamming', 'chebyshev', 'p', 'jaccard', 'sokalsneath', 'pyfunc', 'russellrao', 'mahalanobis', 'sokalmichener', 'canberra', 'cosine', 'braycurtis', 'manhattan', 'l1', 'sqeuclidean', 'euclidean', 'seuclidean', 'haversine', 'yule', 'dice', 'precomputed', 'minkowski', 'l2', 'cityblock', 'correlation', 'rogerstanimoto', 'nan_euclidean', 'infinity'} or a callable. Got 'eucleadian' instead.\n",
      "\n",
      "  warnings.warn(some_fits_failed_message, FitFailedWarning)\n",
      "/Users/sp953694/Library/Python/3.9/lib/python/site-packages/sklearn/model_selection/_search.py:976: UserWarning: One or more of the test scores are non-finite: [       nan        nan        nan        nan 0.65590129 0.65783262\n",
      " 0.6582618  0.65364807]\n",
      "  warnings.warn(\n"
     ]
    }
   ],
   "source": [
    " knn = KNeighborsClassifier()\n",
    "\n",
    "np.random.seed(42)\n",
    "start = time.time()\n",
    "\n",
    "param_dist = {'n_neighbors':[56,57,59,60],\n",
    "             'metric':['eucleadian','manhattan']}\n",
    "              \n",
    "\n",
    "cv_rf = GridSearchCV( knn, cv = 10,\n",
    "                     param_grid=param_dist, \n",
    "                     n_jobs = 3)\n",
    "\n",
    "cv_rf.fit(x_train_transformed, y_train)\n",
    "print('Best Parameters using grid search: \\n', cv_rf.best_params_)\n",
    "end = time.time()\n",
    "print('Time taken in grid search: {0: .2f}'.format(end - start))"
   ]
  },
  {
   "cell_type": "code",
   "execution_count": 179,
   "id": "0b98be80",
   "metadata": {},
   "outputs": [],
   "source": [
    "y_pred = classifier.predict(x_test_transformed)  "
   ]
  },
  {
   "cell_type": "code",
   "execution_count": 180,
   "id": "b222dc40",
   "metadata": {},
   "outputs": [
    {
     "name": "stdout",
     "output_type": "stream",
     "text": [
      "[[1004  297]\n",
      " [ 498  531]]\n",
      "              precision    recall  f1-score   support\n",
      "\n",
      "           0       0.67      0.77      0.72      1301\n",
      "           1       0.64      0.52      0.57      1029\n",
      "\n",
      "    accuracy                           0.66      2330\n",
      "   macro avg       0.65      0.64      0.64      2330\n",
      "weighted avg       0.66      0.66      0.65      2330\n",
      "\n"
     ]
    }
   ],
   "source": [
    "from sklearn.metrics import classification_report, confusion_matrix  \n",
    "print(confusion_matrix(y_test, y_pred))  \n",
    "print(classification_report(y_test, y_pred)) \n",
    "\n"
   ]
  },
  {
   "cell_type": "markdown",
   "id": "79e36691",
   "metadata": {},
   "source": [
    "# LogisticRegression"
   ]
  },
  {
   "cell_type": "code",
   "execution_count": 181,
   "id": "d05b5c11",
   "metadata": {},
   "outputs": [
    {
     "name": "stderr",
     "output_type": "stream",
     "text": [
      "/Users/sp953694/Library/Python/3.9/lib/python/site-packages/sklearn/linear_model/_logistic.py:460: ConvergenceWarning: lbfgs failed to converge (status=1):\n",
      "STOP: TOTAL NO. of ITERATIONS REACHED LIMIT.\n",
      "\n",
      "Increase the number of iterations (max_iter) or scale the data as shown in:\n",
      "    https://scikit-learn.org/stable/modules/preprocessing.html\n",
      "Please also refer to the documentation for alternative solver options:\n",
      "    https://scikit-learn.org/stable/modules/linear_model.html#logistic-regression\n",
      "  n_iter_i = _check_optimize_result(\n"
     ]
    },
    {
     "data": {
      "text/html": [
       "<style>#sk-container-id-7 {color: black;}#sk-container-id-7 pre{padding: 0;}#sk-container-id-7 div.sk-toggleable {background-color: white;}#sk-container-id-7 label.sk-toggleable__label {cursor: pointer;display: block;width: 100%;margin-bottom: 0;padding: 0.3em;box-sizing: border-box;text-align: center;}#sk-container-id-7 label.sk-toggleable__label-arrow:before {content: \"▸\";float: left;margin-right: 0.25em;color: #696969;}#sk-container-id-7 label.sk-toggleable__label-arrow:hover:before {color: black;}#sk-container-id-7 div.sk-estimator:hover label.sk-toggleable__label-arrow:before {color: black;}#sk-container-id-7 div.sk-toggleable__content {max-height: 0;max-width: 0;overflow: hidden;text-align: left;background-color: #f0f8ff;}#sk-container-id-7 div.sk-toggleable__content pre {margin: 0.2em;color: black;border-radius: 0.25em;background-color: #f0f8ff;}#sk-container-id-7 input.sk-toggleable__control:checked~div.sk-toggleable__content {max-height: 200px;max-width: 100%;overflow: auto;}#sk-container-id-7 input.sk-toggleable__control:checked~label.sk-toggleable__label-arrow:before {content: \"▾\";}#sk-container-id-7 div.sk-estimator input.sk-toggleable__control:checked~label.sk-toggleable__label {background-color: #d4ebff;}#sk-container-id-7 div.sk-label input.sk-toggleable__control:checked~label.sk-toggleable__label {background-color: #d4ebff;}#sk-container-id-7 input.sk-hidden--visually {border: 0;clip: rect(1px 1px 1px 1px);clip: rect(1px, 1px, 1px, 1px);height: 1px;margin: -1px;overflow: hidden;padding: 0;position: absolute;width: 1px;}#sk-container-id-7 div.sk-estimator {font-family: monospace;background-color: #f0f8ff;border: 1px dotted black;border-radius: 0.25em;box-sizing: border-box;margin-bottom: 0.5em;}#sk-container-id-7 div.sk-estimator:hover {background-color: #d4ebff;}#sk-container-id-7 div.sk-parallel-item::after {content: \"\";width: 100%;border-bottom: 1px solid gray;flex-grow: 1;}#sk-container-id-7 div.sk-label:hover label.sk-toggleable__label {background-color: #d4ebff;}#sk-container-id-7 div.sk-serial::before {content: \"\";position: absolute;border-left: 1px solid gray;box-sizing: border-box;top: 0;bottom: 0;left: 50%;z-index: 0;}#sk-container-id-7 div.sk-serial {display: flex;flex-direction: column;align-items: center;background-color: white;padding-right: 0.2em;padding-left: 0.2em;position: relative;}#sk-container-id-7 div.sk-item {position: relative;z-index: 1;}#sk-container-id-7 div.sk-parallel {display: flex;align-items: stretch;justify-content: center;background-color: white;position: relative;}#sk-container-id-7 div.sk-item::before, #sk-container-id-7 div.sk-parallel-item::before {content: \"\";position: absolute;border-left: 1px solid gray;box-sizing: border-box;top: 0;bottom: 0;left: 50%;z-index: -1;}#sk-container-id-7 div.sk-parallel-item {display: flex;flex-direction: column;z-index: 1;position: relative;background-color: white;}#sk-container-id-7 div.sk-parallel-item:first-child::after {align-self: flex-end;width: 50%;}#sk-container-id-7 div.sk-parallel-item:last-child::after {align-self: flex-start;width: 50%;}#sk-container-id-7 div.sk-parallel-item:only-child::after {width: 0;}#sk-container-id-7 div.sk-dashed-wrapped {border: 1px dashed gray;margin: 0 0.4em 0.5em 0.4em;box-sizing: border-box;padding-bottom: 0.4em;background-color: white;}#sk-container-id-7 div.sk-label label {font-family: monospace;font-weight: bold;display: inline-block;line-height: 1.2em;}#sk-container-id-7 div.sk-label-container {text-align: center;}#sk-container-id-7 div.sk-container {/* jupyter's `normalize.less` sets `[hidden] { display: none; }` but bootstrap.min.css set `[hidden] { display: none !important; }` so we also need the `!important` here to be able to override the default hidden behavior on the sphinx rendered scikit-learn.org. See: https://github.com/scikit-learn/scikit-learn/issues/21755 */display: inline-block !important;position: relative;}#sk-container-id-7 div.sk-text-repr-fallback {display: none;}</style><div id=\"sk-container-id-7\" class=\"sk-top-container\"><div class=\"sk-text-repr-fallback\"><pre>LogisticRegression()</pre><b>In a Jupyter environment, please rerun this cell to show the HTML representation or trust the notebook. <br />On GitHub, the HTML representation is unable to render, please try loading this page with nbviewer.org.</b></div><div class=\"sk-container\" hidden><div class=\"sk-item\"><div class=\"sk-estimator sk-toggleable\"><input class=\"sk-toggleable__control sk-hidden--visually\" id=\"sk-estimator-id-7\" type=\"checkbox\" checked><label for=\"sk-estimator-id-7\" class=\"sk-toggleable__label sk-toggleable__label-arrow\">LogisticRegression</label><div class=\"sk-toggleable__content\"><pre>LogisticRegression()</pre></div></div></div></div></div>"
      ],
      "text/plain": [
       "LogisticRegression()"
      ]
     },
     "execution_count": 181,
     "metadata": {},
     "output_type": "execute_result"
    }
   ],
   "source": [
    "from sklearn.linear_model import LogisticRegression\n",
    "# instantiate the model (using the default parameters)\n",
    "logreg = LogisticRegression()\n",
    "# fit the model with data\n",
    "logreg.fit(x_train_transformed,y_train)"
   ]
  },
  {
   "cell_type": "code",
   "execution_count": 182,
   "id": "25664893",
   "metadata": {},
   "outputs": [
    {
     "name": "stdout",
     "output_type": "stream",
     "text": [
      "[[969 332]\n",
      " [420 609]]\n",
      "              precision    recall  f1-score   support\n",
      "\n",
      "           0       0.70      0.74      0.72      1301\n",
      "           1       0.65      0.59      0.62      1029\n",
      "\n",
      "    accuracy                           0.68      2330\n",
      "   macro avg       0.67      0.67      0.67      2330\n",
      "weighted avg       0.68      0.68      0.68      2330\n",
      "\n"
     ]
    }
   ],
   "source": [
    "y_pred=logreg.predict(x_test_transformed)\n",
    "print(confusion_matrix(y_test, y_pred))  \n",
    "print(classification_report(y_test, y_pred))"
   ]
  }
 ],
 "metadata": {
  "kernelspec": {
   "display_name": "Python 3",
   "language": "python",
   "name": "python3"
  },
  "language_info": {
   "codemirror_mode": {
    "name": "ipython",
    "version": 3
   },
   "file_extension": ".py",
   "mimetype": "text/x-python",
   "name": "python",
   "nbconvert_exporter": "python",
   "pygments_lexer": "ipython3",
   "version": "3.8.8"
  }
 },
 "nbformat": 4,
 "nbformat_minor": 5
}
